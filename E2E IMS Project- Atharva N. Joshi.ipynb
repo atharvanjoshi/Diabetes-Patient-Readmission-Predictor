{
 "cells": [
  {
   "cell_type": "code",
   "execution_count": 1,
   "metadata": {},
   "outputs": [],
   "source": [
    "import numpy as np\n",
    "import pandas as pd"
   ]
  },
  {
   "cell_type": "code",
   "execution_count": 2,
   "metadata": {},
   "outputs": [],
   "source": [
    "df_diabetes = pd.read_csv('diabetic_data_target.csv')"
   ]
  },
  {
   "cell_type": "code",
   "execution_count": 3,
   "metadata": {},
   "outputs": [
    {
     "data": {
      "text/html": [
       "<div>\n",
       "<style scoped>\n",
       "    .dataframe tbody tr th:only-of-type {\n",
       "        vertical-align: middle;\n",
       "    }\n",
       "\n",
       "    .dataframe tbody tr th {\n",
       "        vertical-align: top;\n",
       "    }\n",
       "\n",
       "    .dataframe thead th {\n",
       "        text-align: right;\n",
       "    }\n",
       "</style>\n",
       "<table border=\"1\" class=\"dataframe\">\n",
       "  <thead>\n",
       "    <tr style=\"text-align: right;\">\n",
       "      <th></th>\n",
       "      <th>encounter_id</th>\n",
       "      <th>patient_nbr</th>\n",
       "      <th>race</th>\n",
       "      <th>gender</th>\n",
       "      <th>age</th>\n",
       "      <th>weight</th>\n",
       "      <th>admission_type_id</th>\n",
       "      <th>discharge_disposition_id</th>\n",
       "      <th>admission_source_id</th>\n",
       "      <th>time_in_hospital</th>\n",
       "      <th>...</th>\n",
       "      <th>citoglipton</th>\n",
       "      <th>insulin</th>\n",
       "      <th>glyburide-metformin</th>\n",
       "      <th>glipizide-metformin</th>\n",
       "      <th>glimepiride-pioglitazone</th>\n",
       "      <th>metformin-rosiglitazone</th>\n",
       "      <th>metformin-pioglitazone</th>\n",
       "      <th>change</th>\n",
       "      <th>diabetesMed</th>\n",
       "      <th>readmitted</th>\n",
       "    </tr>\n",
       "  </thead>\n",
       "  <tbody>\n",
       "    <tr>\n",
       "      <th>0</th>\n",
       "      <td>2278392</td>\n",
       "      <td>8222157</td>\n",
       "      <td>Caucasian</td>\n",
       "      <td>Female</td>\n",
       "      <td>[0-10)</td>\n",
       "      <td>?</td>\n",
       "      <td>6</td>\n",
       "      <td>25</td>\n",
       "      <td>1</td>\n",
       "      <td>1</td>\n",
       "      <td>...</td>\n",
       "      <td>No</td>\n",
       "      <td>No</td>\n",
       "      <td>No</td>\n",
       "      <td>No</td>\n",
       "      <td>No</td>\n",
       "      <td>No</td>\n",
       "      <td>No</td>\n",
       "      <td>No</td>\n",
       "      <td>No</td>\n",
       "      <td>0</td>\n",
       "    </tr>\n",
       "    <tr>\n",
       "      <th>1</th>\n",
       "      <td>149190</td>\n",
       "      <td>55629189</td>\n",
       "      <td>Caucasian</td>\n",
       "      <td>Female</td>\n",
       "      <td>[10-20)</td>\n",
       "      <td>?</td>\n",
       "      <td>1</td>\n",
       "      <td>1</td>\n",
       "      <td>7</td>\n",
       "      <td>3</td>\n",
       "      <td>...</td>\n",
       "      <td>No</td>\n",
       "      <td>Up</td>\n",
       "      <td>No</td>\n",
       "      <td>No</td>\n",
       "      <td>No</td>\n",
       "      <td>No</td>\n",
       "      <td>No</td>\n",
       "      <td>Ch</td>\n",
       "      <td>Yes</td>\n",
       "      <td>1</td>\n",
       "    </tr>\n",
       "    <tr>\n",
       "      <th>2</th>\n",
       "      <td>64410</td>\n",
       "      <td>86047875</td>\n",
       "      <td>AfricanAmerican</td>\n",
       "      <td>Female</td>\n",
       "      <td>[20-30)</td>\n",
       "      <td>?</td>\n",
       "      <td>1</td>\n",
       "      <td>1</td>\n",
       "      <td>7</td>\n",
       "      <td>2</td>\n",
       "      <td>...</td>\n",
       "      <td>No</td>\n",
       "      <td>No</td>\n",
       "      <td>No</td>\n",
       "      <td>No</td>\n",
       "      <td>No</td>\n",
       "      <td>No</td>\n",
       "      <td>No</td>\n",
       "      <td>No</td>\n",
       "      <td>Yes</td>\n",
       "      <td>0</td>\n",
       "    </tr>\n",
       "    <tr>\n",
       "      <th>3</th>\n",
       "      <td>500364</td>\n",
       "      <td>82442376</td>\n",
       "      <td>Caucasian</td>\n",
       "      <td>Male</td>\n",
       "      <td>[30-40)</td>\n",
       "      <td>?</td>\n",
       "      <td>1</td>\n",
       "      <td>1</td>\n",
       "      <td>7</td>\n",
       "      <td>2</td>\n",
       "      <td>...</td>\n",
       "      <td>No</td>\n",
       "      <td>Up</td>\n",
       "      <td>No</td>\n",
       "      <td>No</td>\n",
       "      <td>No</td>\n",
       "      <td>No</td>\n",
       "      <td>No</td>\n",
       "      <td>Ch</td>\n",
       "      <td>Yes</td>\n",
       "      <td>0</td>\n",
       "    </tr>\n",
       "    <tr>\n",
       "      <th>4</th>\n",
       "      <td>16680</td>\n",
       "      <td>42519267</td>\n",
       "      <td>Caucasian</td>\n",
       "      <td>Male</td>\n",
       "      <td>[40-50)</td>\n",
       "      <td>?</td>\n",
       "      <td>1</td>\n",
       "      <td>1</td>\n",
       "      <td>7</td>\n",
       "      <td>1</td>\n",
       "      <td>...</td>\n",
       "      <td>No</td>\n",
       "      <td>Steady</td>\n",
       "      <td>No</td>\n",
       "      <td>No</td>\n",
       "      <td>No</td>\n",
       "      <td>No</td>\n",
       "      <td>No</td>\n",
       "      <td>Ch</td>\n",
       "      <td>Yes</td>\n",
       "      <td>0</td>\n",
       "    </tr>\n",
       "  </tbody>\n",
       "</table>\n",
       "<p>5 rows × 47 columns</p>\n",
       "</div>"
      ],
      "text/plain": [
       "   encounter_id  patient_nbr             race  gender      age weight  \\\n",
       "0       2278392      8222157        Caucasian  Female   [0-10)      ?   \n",
       "1        149190     55629189        Caucasian  Female  [10-20)      ?   \n",
       "2         64410     86047875  AfricanAmerican  Female  [20-30)      ?   \n",
       "3        500364     82442376        Caucasian    Male  [30-40)      ?   \n",
       "4         16680     42519267        Caucasian    Male  [40-50)      ?   \n",
       "\n",
       "   admission_type_id  discharge_disposition_id  admission_source_id  \\\n",
       "0                  6                        25                    1   \n",
       "1                  1                         1                    7   \n",
       "2                  1                         1                    7   \n",
       "3                  1                         1                    7   \n",
       "4                  1                         1                    7   \n",
       "\n",
       "   time_in_hospital  ... citoglipton insulin  glyburide-metformin  \\\n",
       "0                 1  ...          No      No                   No   \n",
       "1                 3  ...          No      Up                   No   \n",
       "2                 2  ...          No      No                   No   \n",
       "3                 2  ...          No      Up                   No   \n",
       "4                 1  ...          No  Steady                   No   \n",
       "\n",
       "   glipizide-metformin  glimepiride-pioglitazone  metformin-rosiglitazone  \\\n",
       "0                   No                        No                       No   \n",
       "1                   No                        No                       No   \n",
       "2                   No                        No                       No   \n",
       "3                   No                        No                       No   \n",
       "4                   No                        No                       No   \n",
       "\n",
       "   metformin-pioglitazone  change  diabetesMed readmitted  \n",
       "0                      No      No           No          0  \n",
       "1                      No      Ch          Yes          1  \n",
       "2                      No      No          Yes          0  \n",
       "3                      No      Ch          Yes          0  \n",
       "4                      No      Ch          Yes          0  \n",
       "\n",
       "[5 rows x 47 columns]"
      ]
     },
     "execution_count": 3,
     "metadata": {},
     "output_type": "execute_result"
    }
   ],
   "source": [
    "df_diabetes.head()"
   ]
  },
  {
   "cell_type": "code",
   "execution_count": 4,
   "metadata": {},
   "outputs": [
    {
     "data": {
      "text/html": [
       "<div>\n",
       "<style scoped>\n",
       "    .dataframe tbody tr th:only-of-type {\n",
       "        vertical-align: middle;\n",
       "    }\n",
       "\n",
       "    .dataframe tbody tr th {\n",
       "        vertical-align: top;\n",
       "    }\n",
       "\n",
       "    .dataframe thead th {\n",
       "        text-align: right;\n",
       "    }\n",
       "</style>\n",
       "<table border=\"1\" class=\"dataframe\">\n",
       "  <thead>\n",
       "    <tr style=\"text-align: right;\">\n",
       "      <th></th>\n",
       "      <th>encounter_id</th>\n",
       "      <th>patient_nbr</th>\n",
       "      <th>race</th>\n",
       "      <th>gender</th>\n",
       "      <th>age</th>\n",
       "      <th>weight</th>\n",
       "      <th>admission_type_id</th>\n",
       "      <th>discharge_disposition_id</th>\n",
       "      <th>admission_source_id</th>\n",
       "      <th>time_in_hospital</th>\n",
       "      <th>...</th>\n",
       "      <th>citoglipton</th>\n",
       "      <th>insulin</th>\n",
       "      <th>glyburide-metformin</th>\n",
       "      <th>glipizide-metformin</th>\n",
       "      <th>glimepiride-pioglitazone</th>\n",
       "      <th>metformin-rosiglitazone</th>\n",
       "      <th>metformin-pioglitazone</th>\n",
       "      <th>change</th>\n",
       "      <th>diabetesMed</th>\n",
       "      <th>readmitted</th>\n",
       "    </tr>\n",
       "  </thead>\n",
       "  <tbody>\n",
       "    <tr>\n",
       "      <th>100761</th>\n",
       "      <td>430292744</td>\n",
       "      <td>84570804</td>\n",
       "      <td>Caucasian</td>\n",
       "      <td>Female</td>\n",
       "      <td>[50-60)</td>\n",
       "      <td>?</td>\n",
       "      <td>1</td>\n",
       "      <td>1</td>\n",
       "      <td>7</td>\n",
       "      <td>2</td>\n",
       "      <td>...</td>\n",
       "      <td>No</td>\n",
       "      <td>No</td>\n",
       "      <td>No</td>\n",
       "      <td>No</td>\n",
       "      <td>No</td>\n",
       "      <td>No</td>\n",
       "      <td>No</td>\n",
       "      <td>No</td>\n",
       "      <td>No</td>\n",
       "      <td>0</td>\n",
       "    </tr>\n",
       "    <tr>\n",
       "      <th>100762</th>\n",
       "      <td>430307540</td>\n",
       "      <td>120343568</td>\n",
       "      <td>Other</td>\n",
       "      <td>Female</td>\n",
       "      <td>[70-80)</td>\n",
       "      <td>?</td>\n",
       "      <td>2</td>\n",
       "      <td>3</td>\n",
       "      <td>1</td>\n",
       "      <td>5</td>\n",
       "      <td>...</td>\n",
       "      <td>No</td>\n",
       "      <td>Down</td>\n",
       "      <td>No</td>\n",
       "      <td>No</td>\n",
       "      <td>No</td>\n",
       "      <td>No</td>\n",
       "      <td>No</td>\n",
       "      <td>Ch</td>\n",
       "      <td>Yes</td>\n",
       "      <td>0</td>\n",
       "    </tr>\n",
       "    <tr>\n",
       "      <th>100763</th>\n",
       "      <td>430307870</td>\n",
       "      <td>160311758</td>\n",
       "      <td>Caucasian</td>\n",
       "      <td>Female</td>\n",
       "      <td>[80-90)</td>\n",
       "      <td>?</td>\n",
       "      <td>1</td>\n",
       "      <td>3</td>\n",
       "      <td>7</td>\n",
       "      <td>5</td>\n",
       "      <td>...</td>\n",
       "      <td>No</td>\n",
       "      <td>Steady</td>\n",
       "      <td>No</td>\n",
       "      <td>No</td>\n",
       "      <td>No</td>\n",
       "      <td>No</td>\n",
       "      <td>No</td>\n",
       "      <td>Ch</td>\n",
       "      <td>Yes</td>\n",
       "      <td>0</td>\n",
       "    </tr>\n",
       "    <tr>\n",
       "      <th>100764</th>\n",
       "      <td>430745762</td>\n",
       "      <td>84325185</td>\n",
       "      <td>Caucasian</td>\n",
       "      <td>Female</td>\n",
       "      <td>[80-90)</td>\n",
       "      <td>?</td>\n",
       "      <td>1</td>\n",
       "      <td>1</td>\n",
       "      <td>7</td>\n",
       "      <td>5</td>\n",
       "      <td>...</td>\n",
       "      <td>No</td>\n",
       "      <td>No</td>\n",
       "      <td>No</td>\n",
       "      <td>No</td>\n",
       "      <td>No</td>\n",
       "      <td>No</td>\n",
       "      <td>No</td>\n",
       "      <td>No</td>\n",
       "      <td>Yes</td>\n",
       "      <td>1</td>\n",
       "    </tr>\n",
       "    <tr>\n",
       "      <th>100765</th>\n",
       "      <td>430748252</td>\n",
       "      <td>86585868</td>\n",
       "      <td>Caucasian</td>\n",
       "      <td>Female</td>\n",
       "      <td>[80-90)</td>\n",
       "      <td>?</td>\n",
       "      <td>1</td>\n",
       "      <td>1</td>\n",
       "      <td>7</td>\n",
       "      <td>3</td>\n",
       "      <td>...</td>\n",
       "      <td>No</td>\n",
       "      <td>Down</td>\n",
       "      <td>No</td>\n",
       "      <td>No</td>\n",
       "      <td>No</td>\n",
       "      <td>No</td>\n",
       "      <td>No</td>\n",
       "      <td>Ch</td>\n",
       "      <td>Yes</td>\n",
       "      <td>0</td>\n",
       "    </tr>\n",
       "  </tbody>\n",
       "</table>\n",
       "<p>5 rows × 47 columns</p>\n",
       "</div>"
      ],
      "text/plain": [
       "        encounter_id  patient_nbr       race  gender      age weight  \\\n",
       "100761     430292744     84570804  Caucasian  Female  [50-60)      ?   \n",
       "100762     430307540    120343568      Other  Female  [70-80)      ?   \n",
       "100763     430307870    160311758  Caucasian  Female  [80-90)      ?   \n",
       "100764     430745762     84325185  Caucasian  Female  [80-90)      ?   \n",
       "100765     430748252     86585868  Caucasian  Female  [80-90)      ?   \n",
       "\n",
       "        admission_type_id  discharge_disposition_id  admission_source_id  \\\n",
       "100761                  1                         1                    7   \n",
       "100762                  2                         3                    1   \n",
       "100763                  1                         3                    7   \n",
       "100764                  1                         1                    7   \n",
       "100765                  1                         1                    7   \n",
       "\n",
       "        time_in_hospital  ... citoglipton insulin  glyburide-metformin  \\\n",
       "100761                 2  ...          No      No                   No   \n",
       "100762                 5  ...          No    Down                   No   \n",
       "100763                 5  ...          No  Steady                   No   \n",
       "100764                 5  ...          No      No                   No   \n",
       "100765                 3  ...          No    Down                   No   \n",
       "\n",
       "        glipizide-metformin  glimepiride-pioglitazone  \\\n",
       "100761                   No                        No   \n",
       "100762                   No                        No   \n",
       "100763                   No                        No   \n",
       "100764                   No                        No   \n",
       "100765                   No                        No   \n",
       "\n",
       "        metformin-rosiglitazone  metformin-pioglitazone  change  diabetesMed  \\\n",
       "100761                       No                      No      No           No   \n",
       "100762                       No                      No      Ch          Yes   \n",
       "100763                       No                      No      Ch          Yes   \n",
       "100764                       No                      No      No          Yes   \n",
       "100765                       No                      No      Ch          Yes   \n",
       "\n",
       "       readmitted  \n",
       "100761          0  \n",
       "100762          0  \n",
       "100763          0  \n",
       "100764          1  \n",
       "100765          0  \n",
       "\n",
       "[5 rows x 47 columns]"
      ]
     },
     "execution_count": 4,
     "metadata": {},
     "output_type": "execute_result"
    }
   ],
   "source": [
    "df_diabetes.tail()"
   ]
  },
  {
   "cell_type": "code",
   "execution_count": 5,
   "metadata": {},
   "outputs": [
    {
     "name": "stdout",
     "output_type": "stream",
     "text": [
      "<class 'pandas.core.frame.DataFrame'>\n",
      "RangeIndex: 100766 entries, 0 to 100765\n",
      "Data columns (total 47 columns):\n",
      " #   Column                    Non-Null Count   Dtype \n",
      "---  ------                    --------------   ----- \n",
      " 0   encounter_id              100766 non-null  int64 \n",
      " 1   patient_nbr               100766 non-null  int64 \n",
      " 2   race                      100766 non-null  object\n",
      " 3   gender                    100766 non-null  object\n",
      " 4   age                       100766 non-null  object\n",
      " 5   weight                    100766 non-null  object\n",
      " 6   admission_type_id         100766 non-null  int64 \n",
      " 7   discharge_disposition_id  100766 non-null  int64 \n",
      " 8   admission_source_id       100766 non-null  int64 \n",
      " 9   time_in_hospital          100766 non-null  int64 \n",
      " 10  payer_code                100766 non-null  object\n",
      " 11  medical_specialty         100766 non-null  object\n",
      " 12  num_lab_procedures        100766 non-null  int64 \n",
      " 13  num_procedures            100766 non-null  int64 \n",
      " 14  num_medications           100766 non-null  int64 \n",
      " 15  number_outpatient         100766 non-null  int64 \n",
      " 16  number_emergency          100766 non-null  int64 \n",
      " 17  number_inpatient          100766 non-null  int64 \n",
      " 18  number_diagnoses          100766 non-null  int64 \n",
      " 19  max_glu_serum             100766 non-null  object\n",
      " 20  A1Cresult                 100766 non-null  object\n",
      " 21  metformin                 100766 non-null  object\n",
      " 22  repaglinide               100766 non-null  object\n",
      " 23  nateglinide               100766 non-null  object\n",
      " 24  chlorpropamide            100766 non-null  object\n",
      " 25  glimepiride               100766 non-null  object\n",
      " 26  acetohexamide             100766 non-null  object\n",
      " 27  glipizide                 100766 non-null  object\n",
      " 28  glyburide                 100766 non-null  object\n",
      " 29  tolbutamide               100766 non-null  object\n",
      " 30  pioglitazone              100766 non-null  object\n",
      " 31  rosiglitazone             100766 non-null  object\n",
      " 32  acarbose                  100766 non-null  object\n",
      " 33  miglitol                  100766 non-null  object\n",
      " 34  troglitazone              100766 non-null  object\n",
      " 35  tolazamide                100766 non-null  object\n",
      " 36  examide                   100766 non-null  object\n",
      " 37  citoglipton               100766 non-null  object\n",
      " 38  insulin                   100766 non-null  object\n",
      " 39  glyburide-metformin       100766 non-null  object\n",
      " 40  glipizide-metformin       100766 non-null  object\n",
      " 41  glimepiride-pioglitazone  100766 non-null  object\n",
      " 42  metformin-rosiglitazone   100766 non-null  object\n",
      " 43  metformin-pioglitazone    100766 non-null  object\n",
      " 44  change                    100766 non-null  object\n",
      " 45  diabetesMed               100766 non-null  object\n",
      " 46  readmitted                100766 non-null  int64 \n",
      "dtypes: int64(14), object(33)\n",
      "memory usage: 36.1+ MB\n"
     ]
    }
   ],
   "source": [
    "df_diabetes.info()"
   ]
  },
  {
   "cell_type": "code",
   "execution_count": 6,
   "metadata": {},
   "outputs": [
    {
     "data": {
      "text/html": [
       "<div>\n",
       "<style scoped>\n",
       "    .dataframe tbody tr th:only-of-type {\n",
       "        vertical-align: middle;\n",
       "    }\n",
       "\n",
       "    .dataframe tbody tr th {\n",
       "        vertical-align: top;\n",
       "    }\n",
       "\n",
       "    .dataframe thead th {\n",
       "        text-align: right;\n",
       "    }\n",
       "</style>\n",
       "<table border=\"1\" class=\"dataframe\">\n",
       "  <thead>\n",
       "    <tr style=\"text-align: right;\">\n",
       "      <th></th>\n",
       "      <th>encounter_id</th>\n",
       "      <th>patient_nbr</th>\n",
       "      <th>admission_type_id</th>\n",
       "      <th>discharge_disposition_id</th>\n",
       "      <th>admission_source_id</th>\n",
       "      <th>time_in_hospital</th>\n",
       "      <th>num_lab_procedures</th>\n",
       "      <th>num_procedures</th>\n",
       "      <th>num_medications</th>\n",
       "      <th>number_outpatient</th>\n",
       "      <th>number_emergency</th>\n",
       "      <th>number_inpatient</th>\n",
       "      <th>number_diagnoses</th>\n",
       "      <th>readmitted</th>\n",
       "    </tr>\n",
       "  </thead>\n",
       "  <tbody>\n",
       "    <tr>\n",
       "      <th>count</th>\n",
       "      <td>1.007660e+05</td>\n",
       "      <td>1.007660e+05</td>\n",
       "      <td>100766.000000</td>\n",
       "      <td>100766.000000</td>\n",
       "      <td>100766.000000</td>\n",
       "      <td>100766.000000</td>\n",
       "      <td>100766.000000</td>\n",
       "      <td>100766.000000</td>\n",
       "      <td>100766.000000</td>\n",
       "      <td>100766.000000</td>\n",
       "      <td>100766.000000</td>\n",
       "      <td>100766.000000</td>\n",
       "      <td>100766.000000</td>\n",
       "      <td>100766.000000</td>\n",
       "    </tr>\n",
       "    <tr>\n",
       "      <th>mean</th>\n",
       "      <td>1.625029e+08</td>\n",
       "      <td>5.395816e+07</td>\n",
       "      <td>2.027757</td>\n",
       "      <td>3.724659</td>\n",
       "      <td>5.755801</td>\n",
       "      <td>4.398676</td>\n",
       "      <td>43.100113</td>\n",
       "      <td>1.339648</td>\n",
       "      <td>16.015283</td>\n",
       "      <td>0.367515</td>\n",
       "      <td>0.196922</td>\n",
       "      <td>0.634917</td>\n",
       "      <td>7.414515</td>\n",
       "      <td>0.461793</td>\n",
       "    </tr>\n",
       "    <tr>\n",
       "      <th>std</th>\n",
       "      <td>9.948982e+07</td>\n",
       "      <td>3.843644e+07</td>\n",
       "      <td>1.447976</td>\n",
       "      <td>5.292776</td>\n",
       "      <td>4.072145</td>\n",
       "      <td>2.986665</td>\n",
       "      <td>19.656306</td>\n",
       "      <td>1.704756</td>\n",
       "      <td>8.125831</td>\n",
       "      <td>1.259773</td>\n",
       "      <td>0.926085</td>\n",
       "      <td>1.261113</td>\n",
       "      <td>1.933903</td>\n",
       "      <td>0.498541</td>\n",
       "    </tr>\n",
       "    <tr>\n",
       "      <th>min</th>\n",
       "      <td>1.252200e+04</td>\n",
       "      <td>1.350000e+02</td>\n",
       "      <td>1.000000</td>\n",
       "      <td>1.000000</td>\n",
       "      <td>1.000000</td>\n",
       "      <td>1.000000</td>\n",
       "      <td>1.000000</td>\n",
       "      <td>0.000000</td>\n",
       "      <td>1.000000</td>\n",
       "      <td>0.000000</td>\n",
       "      <td>0.000000</td>\n",
       "      <td>0.000000</td>\n",
       "      <td>1.000000</td>\n",
       "      <td>0.000000</td>\n",
       "    </tr>\n",
       "    <tr>\n",
       "      <th>25%</th>\n",
       "      <td>8.445611e+07</td>\n",
       "      <td>2.338860e+07</td>\n",
       "      <td>1.000000</td>\n",
       "      <td>1.000000</td>\n",
       "      <td>1.000000</td>\n",
       "      <td>2.000000</td>\n",
       "      <td>31.000000</td>\n",
       "      <td>0.000000</td>\n",
       "      <td>10.000000</td>\n",
       "      <td>0.000000</td>\n",
       "      <td>0.000000</td>\n",
       "      <td>0.000000</td>\n",
       "      <td>6.000000</td>\n",
       "      <td>0.000000</td>\n",
       "    </tr>\n",
       "    <tr>\n",
       "      <th>50%</th>\n",
       "      <td>1.514029e+08</td>\n",
       "      <td>4.510058e+07</td>\n",
       "      <td>1.000000</td>\n",
       "      <td>1.000000</td>\n",
       "      <td>7.000000</td>\n",
       "      <td>4.000000</td>\n",
       "      <td>44.000000</td>\n",
       "      <td>1.000000</td>\n",
       "      <td>15.000000</td>\n",
       "      <td>0.000000</td>\n",
       "      <td>0.000000</td>\n",
       "      <td>0.000000</td>\n",
       "      <td>8.000000</td>\n",
       "      <td>0.000000</td>\n",
       "    </tr>\n",
       "    <tr>\n",
       "      <th>75%</th>\n",
       "      <td>2.269606e+08</td>\n",
       "      <td>8.723646e+07</td>\n",
       "      <td>3.000000</td>\n",
       "      <td>4.000000</td>\n",
       "      <td>7.000000</td>\n",
       "      <td>6.000000</td>\n",
       "      <td>57.000000</td>\n",
       "      <td>2.000000</td>\n",
       "      <td>20.000000</td>\n",
       "      <td>0.000000</td>\n",
       "      <td>0.000000</td>\n",
       "      <td>1.000000</td>\n",
       "      <td>9.000000</td>\n",
       "      <td>1.000000</td>\n",
       "    </tr>\n",
       "    <tr>\n",
       "      <th>max</th>\n",
       "      <td>4.307483e+08</td>\n",
       "      <td>1.895026e+08</td>\n",
       "      <td>8.000000</td>\n",
       "      <td>28.000000</td>\n",
       "      <td>25.000000</td>\n",
       "      <td>14.000000</td>\n",
       "      <td>132.000000</td>\n",
       "      <td>6.000000</td>\n",
       "      <td>81.000000</td>\n",
       "      <td>42.000000</td>\n",
       "      <td>76.000000</td>\n",
       "      <td>21.000000</td>\n",
       "      <td>16.000000</td>\n",
       "      <td>1.000000</td>\n",
       "    </tr>\n",
       "  </tbody>\n",
       "</table>\n",
       "</div>"
      ],
      "text/plain": [
       "       encounter_id   patient_nbr  admission_type_id  \\\n",
       "count  1.007660e+05  1.007660e+05      100766.000000   \n",
       "mean   1.625029e+08  5.395816e+07           2.027757   \n",
       "std    9.948982e+07  3.843644e+07           1.447976   \n",
       "min    1.252200e+04  1.350000e+02           1.000000   \n",
       "25%    8.445611e+07  2.338860e+07           1.000000   \n",
       "50%    1.514029e+08  4.510058e+07           1.000000   \n",
       "75%    2.269606e+08  8.723646e+07           3.000000   \n",
       "max    4.307483e+08  1.895026e+08           8.000000   \n",
       "\n",
       "       discharge_disposition_id  admission_source_id  time_in_hospital  \\\n",
       "count             100766.000000        100766.000000     100766.000000   \n",
       "mean                   3.724659             5.755801          4.398676   \n",
       "std                    5.292776             4.072145          2.986665   \n",
       "min                    1.000000             1.000000          1.000000   \n",
       "25%                    1.000000             1.000000          2.000000   \n",
       "50%                    1.000000             7.000000          4.000000   \n",
       "75%                    4.000000             7.000000          6.000000   \n",
       "max                   28.000000            25.000000         14.000000   \n",
       "\n",
       "       num_lab_procedures  num_procedures  num_medications  number_outpatient  \\\n",
       "count       100766.000000   100766.000000    100766.000000      100766.000000   \n",
       "mean            43.100113        1.339648        16.015283           0.367515   \n",
       "std             19.656306        1.704756         8.125831           1.259773   \n",
       "min              1.000000        0.000000         1.000000           0.000000   \n",
       "25%             31.000000        0.000000        10.000000           0.000000   \n",
       "50%             44.000000        1.000000        15.000000           0.000000   \n",
       "75%             57.000000        2.000000        20.000000           0.000000   \n",
       "max            132.000000        6.000000        81.000000          42.000000   \n",
       "\n",
       "       number_emergency  number_inpatient  number_diagnoses     readmitted  \n",
       "count     100766.000000     100766.000000     100766.000000  100766.000000  \n",
       "mean           0.196922          0.634917          7.414515       0.461793  \n",
       "std            0.926085          1.261113          1.933903       0.498541  \n",
       "min            0.000000          0.000000          1.000000       0.000000  \n",
       "25%            0.000000          0.000000          6.000000       0.000000  \n",
       "50%            0.000000          0.000000          8.000000       0.000000  \n",
       "75%            0.000000          1.000000          9.000000       1.000000  \n",
       "max           76.000000         21.000000         16.000000       1.000000  "
      ]
     },
     "execution_count": 6,
     "metadata": {},
     "output_type": "execute_result"
    }
   ],
   "source": [
    "df_diabetes.describe()"
   ]
  },
  {
   "cell_type": "code",
   "execution_count": 7,
   "metadata": {},
   "outputs": [
    {
     "data": {
      "text/html": [
       "<div>\n",
       "<style scoped>\n",
       "    .dataframe tbody tr th:only-of-type {\n",
       "        vertical-align: middle;\n",
       "    }\n",
       "\n",
       "    .dataframe tbody tr th {\n",
       "        vertical-align: top;\n",
       "    }\n",
       "\n",
       "    .dataframe thead th {\n",
       "        text-align: right;\n",
       "    }\n",
       "</style>\n",
       "<table border=\"1\" class=\"dataframe\">\n",
       "  <thead>\n",
       "    <tr style=\"text-align: right;\">\n",
       "      <th></th>\n",
       "      <th>encounter_id</th>\n",
       "      <th>patient_nbr</th>\n",
       "      <th>race</th>\n",
       "      <th>gender</th>\n",
       "      <th>age</th>\n",
       "      <th>weight</th>\n",
       "      <th>admission_type_id</th>\n",
       "      <th>discharge_disposition_id</th>\n",
       "      <th>admission_source_id</th>\n",
       "      <th>time_in_hospital</th>\n",
       "      <th>...</th>\n",
       "      <th>citoglipton</th>\n",
       "      <th>insulin</th>\n",
       "      <th>glyburide-metformin</th>\n",
       "      <th>glipizide-metformin</th>\n",
       "      <th>glimepiride-pioglitazone</th>\n",
       "      <th>metformin-rosiglitazone</th>\n",
       "      <th>metformin-pioglitazone</th>\n",
       "      <th>change</th>\n",
       "      <th>diabetesMed</th>\n",
       "      <th>readmitted</th>\n",
       "    </tr>\n",
       "  </thead>\n",
       "  <tbody>\n",
       "    <tr>\n",
       "      <th>count</th>\n",
       "      <td>1.007660e+05</td>\n",
       "      <td>1.007660e+05</td>\n",
       "      <td>100766</td>\n",
       "      <td>100766</td>\n",
       "      <td>100766</td>\n",
       "      <td>100766</td>\n",
       "      <td>100766.000000</td>\n",
       "      <td>100766.000000</td>\n",
       "      <td>100766.000000</td>\n",
       "      <td>100766.000000</td>\n",
       "      <td>...</td>\n",
       "      <td>100766</td>\n",
       "      <td>100766</td>\n",
       "      <td>100766</td>\n",
       "      <td>100766</td>\n",
       "      <td>100766</td>\n",
       "      <td>100766</td>\n",
       "      <td>100766</td>\n",
       "      <td>100766</td>\n",
       "      <td>100766</td>\n",
       "      <td>100766.000000</td>\n",
       "    </tr>\n",
       "    <tr>\n",
       "      <th>unique</th>\n",
       "      <td>NaN</td>\n",
       "      <td>NaN</td>\n",
       "      <td>6</td>\n",
       "      <td>3</td>\n",
       "      <td>10</td>\n",
       "      <td>10</td>\n",
       "      <td>NaN</td>\n",
       "      <td>NaN</td>\n",
       "      <td>NaN</td>\n",
       "      <td>NaN</td>\n",
       "      <td>...</td>\n",
       "      <td>1</td>\n",
       "      <td>4</td>\n",
       "      <td>4</td>\n",
       "      <td>2</td>\n",
       "      <td>2</td>\n",
       "      <td>2</td>\n",
       "      <td>2</td>\n",
       "      <td>2</td>\n",
       "      <td>2</td>\n",
       "      <td>NaN</td>\n",
       "    </tr>\n",
       "    <tr>\n",
       "      <th>top</th>\n",
       "      <td>NaN</td>\n",
       "      <td>NaN</td>\n",
       "      <td>Caucasian</td>\n",
       "      <td>Female</td>\n",
       "      <td>[70-80)</td>\n",
       "      <td>?</td>\n",
       "      <td>NaN</td>\n",
       "      <td>NaN</td>\n",
       "      <td>NaN</td>\n",
       "      <td>NaN</td>\n",
       "      <td>...</td>\n",
       "      <td>No</td>\n",
       "      <td>No</td>\n",
       "      <td>No</td>\n",
       "      <td>No</td>\n",
       "      <td>No</td>\n",
       "      <td>No</td>\n",
       "      <td>No</td>\n",
       "      <td>No</td>\n",
       "      <td>Yes</td>\n",
       "      <td>NaN</td>\n",
       "    </tr>\n",
       "    <tr>\n",
       "      <th>freq</th>\n",
       "      <td>NaN</td>\n",
       "      <td>NaN</td>\n",
       "      <td>75344</td>\n",
       "      <td>54173</td>\n",
       "      <td>25771</td>\n",
       "      <td>97606</td>\n",
       "      <td>NaN</td>\n",
       "      <td>NaN</td>\n",
       "      <td>NaN</td>\n",
       "      <td>NaN</td>\n",
       "      <td>...</td>\n",
       "      <td>100766</td>\n",
       "      <td>46995</td>\n",
       "      <td>100068</td>\n",
       "      <td>100753</td>\n",
       "      <td>100765</td>\n",
       "      <td>100764</td>\n",
       "      <td>100765</td>\n",
       "      <td>54266</td>\n",
       "      <td>77561</td>\n",
       "      <td>NaN</td>\n",
       "    </tr>\n",
       "    <tr>\n",
       "      <th>mean</th>\n",
       "      <td>1.625029e+08</td>\n",
       "      <td>5.395816e+07</td>\n",
       "      <td>NaN</td>\n",
       "      <td>NaN</td>\n",
       "      <td>NaN</td>\n",
       "      <td>NaN</td>\n",
       "      <td>2.027757</td>\n",
       "      <td>3.724659</td>\n",
       "      <td>5.755801</td>\n",
       "      <td>4.398676</td>\n",
       "      <td>...</td>\n",
       "      <td>NaN</td>\n",
       "      <td>NaN</td>\n",
       "      <td>NaN</td>\n",
       "      <td>NaN</td>\n",
       "      <td>NaN</td>\n",
       "      <td>NaN</td>\n",
       "      <td>NaN</td>\n",
       "      <td>NaN</td>\n",
       "      <td>NaN</td>\n",
       "      <td>0.461793</td>\n",
       "    </tr>\n",
       "    <tr>\n",
       "      <th>std</th>\n",
       "      <td>9.948982e+07</td>\n",
       "      <td>3.843644e+07</td>\n",
       "      <td>NaN</td>\n",
       "      <td>NaN</td>\n",
       "      <td>NaN</td>\n",
       "      <td>NaN</td>\n",
       "      <td>1.447976</td>\n",
       "      <td>5.292776</td>\n",
       "      <td>4.072145</td>\n",
       "      <td>2.986665</td>\n",
       "      <td>...</td>\n",
       "      <td>NaN</td>\n",
       "      <td>NaN</td>\n",
       "      <td>NaN</td>\n",
       "      <td>NaN</td>\n",
       "      <td>NaN</td>\n",
       "      <td>NaN</td>\n",
       "      <td>NaN</td>\n",
       "      <td>NaN</td>\n",
       "      <td>NaN</td>\n",
       "      <td>0.498541</td>\n",
       "    </tr>\n",
       "    <tr>\n",
       "      <th>min</th>\n",
       "      <td>1.252200e+04</td>\n",
       "      <td>1.350000e+02</td>\n",
       "      <td>NaN</td>\n",
       "      <td>NaN</td>\n",
       "      <td>NaN</td>\n",
       "      <td>NaN</td>\n",
       "      <td>1.000000</td>\n",
       "      <td>1.000000</td>\n",
       "      <td>1.000000</td>\n",
       "      <td>1.000000</td>\n",
       "      <td>...</td>\n",
       "      <td>NaN</td>\n",
       "      <td>NaN</td>\n",
       "      <td>NaN</td>\n",
       "      <td>NaN</td>\n",
       "      <td>NaN</td>\n",
       "      <td>NaN</td>\n",
       "      <td>NaN</td>\n",
       "      <td>NaN</td>\n",
       "      <td>NaN</td>\n",
       "      <td>0.000000</td>\n",
       "    </tr>\n",
       "    <tr>\n",
       "      <th>25%</th>\n",
       "      <td>8.445611e+07</td>\n",
       "      <td>2.338860e+07</td>\n",
       "      <td>NaN</td>\n",
       "      <td>NaN</td>\n",
       "      <td>NaN</td>\n",
       "      <td>NaN</td>\n",
       "      <td>1.000000</td>\n",
       "      <td>1.000000</td>\n",
       "      <td>1.000000</td>\n",
       "      <td>2.000000</td>\n",
       "      <td>...</td>\n",
       "      <td>NaN</td>\n",
       "      <td>NaN</td>\n",
       "      <td>NaN</td>\n",
       "      <td>NaN</td>\n",
       "      <td>NaN</td>\n",
       "      <td>NaN</td>\n",
       "      <td>NaN</td>\n",
       "      <td>NaN</td>\n",
       "      <td>NaN</td>\n",
       "      <td>0.000000</td>\n",
       "    </tr>\n",
       "    <tr>\n",
       "      <th>50%</th>\n",
       "      <td>1.514029e+08</td>\n",
       "      <td>4.510058e+07</td>\n",
       "      <td>NaN</td>\n",
       "      <td>NaN</td>\n",
       "      <td>NaN</td>\n",
       "      <td>NaN</td>\n",
       "      <td>1.000000</td>\n",
       "      <td>1.000000</td>\n",
       "      <td>7.000000</td>\n",
       "      <td>4.000000</td>\n",
       "      <td>...</td>\n",
       "      <td>NaN</td>\n",
       "      <td>NaN</td>\n",
       "      <td>NaN</td>\n",
       "      <td>NaN</td>\n",
       "      <td>NaN</td>\n",
       "      <td>NaN</td>\n",
       "      <td>NaN</td>\n",
       "      <td>NaN</td>\n",
       "      <td>NaN</td>\n",
       "      <td>0.000000</td>\n",
       "    </tr>\n",
       "    <tr>\n",
       "      <th>75%</th>\n",
       "      <td>2.269606e+08</td>\n",
       "      <td>8.723646e+07</td>\n",
       "      <td>NaN</td>\n",
       "      <td>NaN</td>\n",
       "      <td>NaN</td>\n",
       "      <td>NaN</td>\n",
       "      <td>3.000000</td>\n",
       "      <td>4.000000</td>\n",
       "      <td>7.000000</td>\n",
       "      <td>6.000000</td>\n",
       "      <td>...</td>\n",
       "      <td>NaN</td>\n",
       "      <td>NaN</td>\n",
       "      <td>NaN</td>\n",
       "      <td>NaN</td>\n",
       "      <td>NaN</td>\n",
       "      <td>NaN</td>\n",
       "      <td>NaN</td>\n",
       "      <td>NaN</td>\n",
       "      <td>NaN</td>\n",
       "      <td>1.000000</td>\n",
       "    </tr>\n",
       "    <tr>\n",
       "      <th>max</th>\n",
       "      <td>4.307483e+08</td>\n",
       "      <td>1.895026e+08</td>\n",
       "      <td>NaN</td>\n",
       "      <td>NaN</td>\n",
       "      <td>NaN</td>\n",
       "      <td>NaN</td>\n",
       "      <td>8.000000</td>\n",
       "      <td>28.000000</td>\n",
       "      <td>25.000000</td>\n",
       "      <td>14.000000</td>\n",
       "      <td>...</td>\n",
       "      <td>NaN</td>\n",
       "      <td>NaN</td>\n",
       "      <td>NaN</td>\n",
       "      <td>NaN</td>\n",
       "      <td>NaN</td>\n",
       "      <td>NaN</td>\n",
       "      <td>NaN</td>\n",
       "      <td>NaN</td>\n",
       "      <td>NaN</td>\n",
       "      <td>1.000000</td>\n",
       "    </tr>\n",
       "  </tbody>\n",
       "</table>\n",
       "<p>11 rows × 47 columns</p>\n",
       "</div>"
      ],
      "text/plain": [
       "        encounter_id   patient_nbr       race  gender      age  weight  \\\n",
       "count   1.007660e+05  1.007660e+05     100766  100766   100766  100766   \n",
       "unique           NaN           NaN          6       3       10      10   \n",
       "top              NaN           NaN  Caucasian  Female  [70-80)       ?   \n",
       "freq             NaN           NaN      75344   54173    25771   97606   \n",
       "mean    1.625029e+08  5.395816e+07        NaN     NaN      NaN     NaN   \n",
       "std     9.948982e+07  3.843644e+07        NaN     NaN      NaN     NaN   \n",
       "min     1.252200e+04  1.350000e+02        NaN     NaN      NaN     NaN   \n",
       "25%     8.445611e+07  2.338860e+07        NaN     NaN      NaN     NaN   \n",
       "50%     1.514029e+08  4.510058e+07        NaN     NaN      NaN     NaN   \n",
       "75%     2.269606e+08  8.723646e+07        NaN     NaN      NaN     NaN   \n",
       "max     4.307483e+08  1.895026e+08        NaN     NaN      NaN     NaN   \n",
       "\n",
       "        admission_type_id  discharge_disposition_id  admission_source_id  \\\n",
       "count       100766.000000             100766.000000        100766.000000   \n",
       "unique                NaN                       NaN                  NaN   \n",
       "top                   NaN                       NaN                  NaN   \n",
       "freq                  NaN                       NaN                  NaN   \n",
       "mean             2.027757                  3.724659             5.755801   \n",
       "std              1.447976                  5.292776             4.072145   \n",
       "min              1.000000                  1.000000             1.000000   \n",
       "25%              1.000000                  1.000000             1.000000   \n",
       "50%              1.000000                  1.000000             7.000000   \n",
       "75%              3.000000                  4.000000             7.000000   \n",
       "max              8.000000                 28.000000            25.000000   \n",
       "\n",
       "        time_in_hospital  ... citoglipton insulin  glyburide-metformin  \\\n",
       "count      100766.000000  ...      100766  100766               100766   \n",
       "unique               NaN  ...           1       4                    4   \n",
       "top                  NaN  ...          No      No                   No   \n",
       "freq                 NaN  ...      100766   46995               100068   \n",
       "mean            4.398676  ...         NaN     NaN                  NaN   \n",
       "std             2.986665  ...         NaN     NaN                  NaN   \n",
       "min             1.000000  ...         NaN     NaN                  NaN   \n",
       "25%             2.000000  ...         NaN     NaN                  NaN   \n",
       "50%             4.000000  ...         NaN     NaN                  NaN   \n",
       "75%             6.000000  ...         NaN     NaN                  NaN   \n",
       "max            14.000000  ...         NaN     NaN                  NaN   \n",
       "\n",
       "        glipizide-metformin  glimepiride-pioglitazone  \\\n",
       "count                100766                    100766   \n",
       "unique                    2                         2   \n",
       "top                      No                        No   \n",
       "freq                 100753                    100765   \n",
       "mean                    NaN                       NaN   \n",
       "std                     NaN                       NaN   \n",
       "min                     NaN                       NaN   \n",
       "25%                     NaN                       NaN   \n",
       "50%                     NaN                       NaN   \n",
       "75%                     NaN                       NaN   \n",
       "max                     NaN                       NaN   \n",
       "\n",
       "        metformin-rosiglitazone  metformin-pioglitazone  change  diabetesMed  \\\n",
       "count                    100766                  100766  100766       100766   \n",
       "unique                        2                       2       2            2   \n",
       "top                          No                      No      No          Yes   \n",
       "freq                     100764                  100765   54266        77561   \n",
       "mean                        NaN                     NaN     NaN          NaN   \n",
       "std                         NaN                     NaN     NaN          NaN   \n",
       "min                         NaN                     NaN     NaN          NaN   \n",
       "25%                         NaN                     NaN     NaN          NaN   \n",
       "50%                         NaN                     NaN     NaN          NaN   \n",
       "75%                         NaN                     NaN     NaN          NaN   \n",
       "max                         NaN                     NaN     NaN          NaN   \n",
       "\n",
       "           readmitted  \n",
       "count   100766.000000  \n",
       "unique            NaN  \n",
       "top               NaN  \n",
       "freq              NaN  \n",
       "mean         0.461793  \n",
       "std          0.498541  \n",
       "min          0.000000  \n",
       "25%          0.000000  \n",
       "50%          0.000000  \n",
       "75%          1.000000  \n",
       "max          1.000000  \n",
       "\n",
       "[11 rows x 47 columns]"
      ]
     },
     "execution_count": 7,
     "metadata": {},
     "output_type": "execute_result"
    }
   ],
   "source": [
    "df_diabetes.describe(include='all')"
   ]
  },
  {
   "cell_type": "code",
   "execution_count": 8,
   "metadata": {},
   "outputs": [
    {
     "name": "stderr",
     "output_type": "stream",
     "text": [
      "C:\\Users\\athar\\Anaconda3\\lib\\site-packages\\seaborn\\_decorators.py:43: FutureWarning: Pass the following variable as a keyword arg: x. From version 0.12, the only valid positional argument will be `data`, and passing other arguments without an explicit keyword will result in an error or misinterpretation.\n",
      "  FutureWarning\n"
     ]
    },
    {
     "data": {
      "text/plain": [
       "<AxesSubplot:xlabel='race', ylabel='count'>"
      ]
     },
     "execution_count": 8,
     "metadata": {},
     "output_type": "execute_result"
    },
    {
     "data": {
      "image/png": "[encoded data removed]",
      "text/plain": [
       "<Figure size 432x288 with 1 Axes>"
      ]
     },
     "metadata": {
      "needs_background": "light"
     },
     "output_type": "display_data"
    }
   ],
   "source": [
    "import matplotlib.pyplot as plt\n",
    "import seaborn as sns\n",
    "sns.countplot(df_diabetes['race'])"
   ]
  },
  {
   "cell_type": "code",
   "execution_count": 9,
   "metadata": {
    "scrolled": false
   },
   "outputs": [
    {
     "name": "stderr",
     "output_type": "stream",
     "text": [
      "C:\\Users\\athar\\Anaconda3\\lib\\site-packages\\seaborn\\_decorators.py:43: FutureWarning: Pass the following variable as a keyword arg: x. From version 0.12, the only valid positional argument will be `data`, and passing other arguments without an explicit keyword will result in an error or misinterpretation.\n",
      "  FutureWarning\n"
     ]
    },
    {
     "data": {
      "text/plain": [
       "<AxesSubplot:xlabel='gender', ylabel='count'>"
      ]
     },
     "execution_count": 9,
     "metadata": {},
     "output_type": "execute_result"
    },
    {
     "data": {
      "image/png": "[encoded data removed]",
      "text/plain": [
       "<Figure size 432x288 with 1 Axes>"
      ]
     },
     "metadata": {
      "needs_background": "light"
     },
     "output_type": "display_data"
    }
   ],
   "source": [
    "sns.countplot(df_diabetes['gender'])"
   ]
  },
  {
   "cell_type": "code",
   "execution_count": 10,
   "metadata": {},
   "outputs": [
    {
     "name": "stderr",
     "output_type": "stream",
     "text": [
      "C:\\Users\\athar\\Anaconda3\\lib\\site-packages\\seaborn\\_decorators.py:43: FutureWarning: Pass the following variable as a keyword arg: x. From version 0.12, the only valid positional argument will be `data`, and passing other arguments without an explicit keyword will result in an error or misinterpretation.\n",
      "  FutureWarning\n"
     ]
    },
    {
     "data": {
      "text/plain": [
       "<AxesSubplot:xlabel='max_glu_serum', ylabel='count'>"
      ]
     },
     "execution_count": 10,
     "metadata": {},
     "output_type": "execute_result"
    },
    {
     "data": {
      "image/png": "[encoded data removed]",
      "text/plain": [
       "<Figure size 432x288 with 1 Axes>"
      ]
     },
     "metadata": {
      "needs_background": "light"
     },
     "output_type": "display_data"
    }
   ],
   "source": [
    "sns.countplot(df_diabetes['max_glu_serum'])"
   ]
  },
  {
   "cell_type": "code",
   "execution_count": 11,
   "metadata": {},
   "outputs": [
    {
     "name": "stderr",
     "output_type": "stream",
     "text": [
      "C:\\Users\\athar\\Anaconda3\\lib\\site-packages\\seaborn\\_decorators.py:43: FutureWarning: Pass the following variable as a keyword arg: x. From version 0.12, the only valid positional argument will be `data`, and passing other arguments without an explicit keyword will result in an error or misinterpretation.\n",
      "  FutureWarning\n"
     ]
    },
    {
     "data": {
      "text/plain": [
       "<AxesSubplot:xlabel='A1Cresult', ylabel='count'>"
      ]
     },
     "execution_count": 11,
     "metadata": {},
     "output_type": "execute_result"
    },
    {
     "data": {
      "image/png": "[encoded data removed]",
      "text/plain": [
       "<Figure size 432x288 with 1 Axes>"
      ]
     },
     "metadata": {
      "needs_background": "light"
     },
     "output_type": "display_data"
    }
   ],
   "source": [
    "sns.countplot(df_diabetes['A1Cresult'])"
   ]
  },
  {
   "cell_type": "code",
   "execution_count": 12,
   "metadata": {},
   "outputs": [
    {
     "name": "stderr",
     "output_type": "stream",
     "text": [
      "C:\\Users\\athar\\Anaconda3\\lib\\site-packages\\seaborn\\_decorators.py:43: FutureWarning: Pass the following variable as a keyword arg: x. From version 0.12, the only valid positional argument will be `data`, and passing other arguments without an explicit keyword will result in an error or misinterpretation.\n",
      "  FutureWarning\n"
     ]
    },
    {
     "data": {
      "text/plain": [
       "<AxesSubplot:xlabel='metformin', ylabel='count'>"
      ]
     },
     "execution_count": 12,
     "metadata": {},
     "output_type": "execute_result"
    },
    {
     "data": {
      "image/png": "[encoded data removed]",
      "text/plain": [
       "<Figure size 432x288 with 1 Axes>"
      ]
     },
     "metadata": {
      "needs_background": "light"
     },
     "output_type": "display_data"
    }
   ],
   "source": [
    "sns.countplot(df_diabetes['metformin'])"
   ]
  },
  {
   "cell_type": "code",
   "execution_count": 13,
   "metadata": {},
   "outputs": [
    {
     "name": "stderr",
     "output_type": "stream",
     "text": [
      "C:\\Users\\athar\\Anaconda3\\lib\\site-packages\\seaborn\\_decorators.py:43: FutureWarning: Pass the following variable as a keyword arg: x. From version 0.12, the only valid positional argument will be `data`, and passing other arguments without an explicit keyword will result in an error or misinterpretation.\n",
      "  FutureWarning\n"
     ]
    },
    {
     "data": {
      "text/plain": [
       "<AxesSubplot:xlabel='repaglinide', ylabel='count'>"
      ]
     },
     "execution_count": 13,
     "metadata": {},
     "output_type": "execute_result"
    },
    {
     "data": {
      "image/png": "[encoded data removed]",
      "text/plain": [
       "<Figure size 432x288 with 1 Axes>"
      ]
     },
     "metadata": {
      "needs_background": "light"
     },
     "output_type": "display_data"
    }
   ],
   "source": [
    "sns.countplot(df_diabetes['repaglinide'])"
   ]
  },
  {
   "cell_type": "code",
   "execution_count": 14,
   "metadata": {},
   "outputs": [
    {
     "name": "stderr",
     "output_type": "stream",
     "text": [
      "C:\\Users\\athar\\Anaconda3\\lib\\site-packages\\seaborn\\_decorators.py:43: FutureWarning: Pass the following variable as a keyword arg: x. From version 0.12, the only valid positional argument will be `data`, and passing other arguments without an explicit keyword will result in an error or misinterpretation.\n",
      "  FutureWarning\n"
     ]
    },
    {
     "data": {
      "text/plain": [
       "<AxesSubplot:xlabel='nateglinide', ylabel='count'>"
      ]
     },
     "execution_count": 14,
     "metadata": {},
     "output_type": "execute_result"
    },
    {
     "data": {
      "image/png": "[encoded data removed]",
      "text/plain": [
       "<Figure size 432x288 with 1 Axes>"
      ]
     },
     "metadata": {
      "needs_background": "light"
     },
     "output_type": "display_data"
    }
   ],
   "source": [
    "sns.countplot(df_diabetes['nateglinide'])"
   ]
  },
  {
   "cell_type": "code",
   "execution_count": 15,
   "metadata": {},
   "outputs": [
    {
     "name": "stderr",
     "output_type": "stream",
     "text": [
      "C:\\Users\\athar\\Anaconda3\\lib\\site-packages\\seaborn\\_decorators.py:43: FutureWarning: Pass the following variable as a keyword arg: x. From version 0.12, the only valid positional argument will be `data`, and passing other arguments without an explicit keyword will result in an error or misinterpretation.\n",
      "  FutureWarning\n"
     ]
    },
    {
     "data": {
      "text/plain": [
       "<AxesSubplot:xlabel='chlorpropamide', ylabel='count'>"
      ]
     },
     "execution_count": 15,
     "metadata": {},
     "output_type": "execute_result"
    },
    {
     "data": {
      "image/png": "[encoded data removed]",
      "text/plain": [
       "<Figure size 432x288 with 1 Axes>"
      ]
     },
     "metadata": {
      "needs_background": "light"
     },
     "output_type": "display_data"
    }
   ],
   "source": [
    "sns.countplot(df_diabetes['chlorpropamide'])"
   ]
  },
  {
   "cell_type": "code",
   "execution_count": 16,
   "metadata": {},
   "outputs": [
    {
     "name": "stderr",
     "output_type": "stream",
     "text": [
      "C:\\Users\\athar\\Anaconda3\\lib\\site-packages\\seaborn\\_decorators.py:43: FutureWarning: Pass the following variable as a keyword arg: x. From version 0.12, the only valid positional argument will be `data`, and passing other arguments without an explicit keyword will result in an error or misinterpretation.\n",
      "  FutureWarning\n"
     ]
    },
    {
     "data": {
      "text/plain": [
       "<AxesSubplot:xlabel='glimepiride', ylabel='count'>"
      ]
     },
     "execution_count": 16,
     "metadata": {},
     "output_type": "execute_result"
    },
    {
     "data": {
      "image/png": "[encoded data removed]",
      "text/plain": [
       "<Figure size 432x288 with 1 Axes>"
      ]
     },
     "metadata": {
      "needs_background": "light"
     },
     "output_type": "display_data"
    }
   ],
   "source": [
    "sns.countplot(df_diabetes['glimepiride'])"
   ]
  },
  {
   "cell_type": "code",
   "execution_count": 17,
   "metadata": {},
   "outputs": [
    {
     "name": "stderr",
     "output_type": "stream",
     "text": [
      "C:\\Users\\athar\\Anaconda3\\lib\\site-packages\\seaborn\\_decorators.py:43: FutureWarning: Pass the following variable as a keyword arg: x. From version 0.12, the only valid positional argument will be `data`, and passing other arguments without an explicit keyword will result in an error or misinterpretation.\n",
      "  FutureWarning\n"
     ]
    },
    {
     "data": {
      "text/plain": [
       "<AxesSubplot:xlabel='acetohexamide', ylabel='count'>"
      ]
     },
     "execution_count": 17,
     "metadata": {},
     "output_type": "execute_result"
    },
    {
     "data": {
      "image/png": "[encoded data removed]",
      "text/plain": [
       "<Figure size 432x288 with 1 Axes>"
      ]
     },
     "metadata": {
      "needs_background": "light"
     },
     "output_type": "display_data"
    }
   ],
   "source": [
    "sns.countplot(df_diabetes['acetohexamide'])"
   ]
  },
  {
   "cell_type": "code",
   "execution_count": 18,
   "metadata": {},
   "outputs": [
    {
     "name": "stderr",
     "output_type": "stream",
     "text": [
      "C:\\Users\\athar\\Anaconda3\\lib\\site-packages\\seaborn\\_decorators.py:43: FutureWarning: Pass the following variable as a keyword arg: x. From version 0.12, the only valid positional argument will be `data`, and passing other arguments without an explicit keyword will result in an error or misinterpretation.\n",
      "  FutureWarning\n"
     ]
    },
    {
     "data": {
      "text/plain": [
       "<AxesSubplot:xlabel='glipizide', ylabel='count'>"
      ]
     },
     "execution_count": 18,
     "metadata": {},
     "output_type": "execute_result"
    },
    {
     "data": {
      "image/png": "[encoded data removed]",
      "text/plain": [
       "<Figure size 432x288 with 1 Axes>"
      ]
     },
     "metadata": {
      "needs_background": "light"
     },
     "output_type": "display_data"
    }
   ],
   "source": [
    "sns.countplot(df_diabetes['glipizide'])"
   ]
  },
  {
   "cell_type": "code",
   "execution_count": 19,
   "metadata": {},
   "outputs": [
    {
     "name": "stderr",
     "output_type": "stream",
     "text": [
      "C:\\Users\\athar\\Anaconda3\\lib\\site-packages\\seaborn\\_decorators.py:43: FutureWarning: Pass the following variable as a keyword arg: x. From version 0.12, the only valid positional argument will be `data`, and passing other arguments without an explicit keyword will result in an error or misinterpretation.\n",
      "  FutureWarning\n"
     ]
    },
    {
     "data": {
      "text/plain": [
       "<AxesSubplot:xlabel='glyburide', ylabel='count'>"
      ]
     },
     "execution_count": 19,
     "metadata": {},
     "output_type": "execute_result"
    },
    {
     "data": {
      "image/png": "[encoded data removed]",
      "text/plain": [
       "<Figure size 432x288 with 1 Axes>"
      ]
     },
     "metadata": {
      "needs_background": "light"
     },
     "output_type": "display_data"
    }
   ],
   "source": [
    "sns.countplot(df_diabetes['glyburide'])"
   ]
  },
  {
   "cell_type": "code",
   "execution_count": 20,
   "metadata": {},
   "outputs": [
    {
     "name": "stderr",
     "output_type": "stream",
     "text": [
      "C:\\Users\\athar\\Anaconda3\\lib\\site-packages\\seaborn\\_decorators.py:43: FutureWarning: Pass the following variable as a keyword arg: x. From version 0.12, the only valid positional argument will be `data`, and passing other arguments without an explicit keyword will result in an error or misinterpretation.\n",
      "  FutureWarning\n"
     ]
    },
    {
     "data": {
      "text/plain": [
       "<AxesSubplot:xlabel='tolbutamide', ylabel='count'>"
      ]
     },
     "execution_count": 20,
     "metadata": {},
     "output_type": "execute_result"
    },
    {
     "data": {
      "image/png": "[encoded data removed]",
      "text/plain": [
       "<Figure size 432x288 with 1 Axes>"
      ]
     },
     "metadata": {
      "needs_background": "light"
     },
     "output_type": "display_data"
    }
   ],
   "source": [
    "sns.countplot(df_diabetes['tolbutamide'])"
   ]
  },
  {
   "cell_type": "code",
   "execution_count": 21,
   "metadata": {},
   "outputs": [
    {
     "name": "stderr",
     "output_type": "stream",
     "text": [
      "C:\\Users\\athar\\Anaconda3\\lib\\site-packages\\seaborn\\_decorators.py:43: FutureWarning: Pass the following variable as a keyword arg: x. From version 0.12, the only valid positional argument will be `data`, and passing other arguments without an explicit keyword will result in an error or misinterpretation.\n",
      "  FutureWarning\n"
     ]
    },
    {
     "data": {
      "text/plain": [
       "<AxesSubplot:xlabel='pioglitazone', ylabel='count'>"
      ]
     },
     "execution_count": 21,
     "metadata": {},
     "output_type": "execute_result"
    },
    {
     "data": {
      "image/png": "[encoded data removed]",
      "text/plain": [
       "<Figure size 432x288 with 1 Axes>"
      ]
     },
     "metadata": {
      "needs_background": "light"
     },
     "output_type": "display_data"
    }
   ],
   "source": [
    "sns.countplot(df_diabetes['pioglitazone'])"
   ]
  },
  {
   "cell_type": "code",
   "execution_count": 22,
   "metadata": {},
   "outputs": [
    {
     "name": "stderr",
     "output_type": "stream",
     "text": [
      "C:\\Users\\athar\\Anaconda3\\lib\\site-packages\\seaborn\\_decorators.py:43: FutureWarning: Pass the following variable as a keyword arg: x. From version 0.12, the only valid positional argument will be `data`, and passing other arguments without an explicit keyword will result in an error or misinterpretation.\n",
      "  FutureWarning\n"
     ]
    },
    {
     "data": {
      "text/plain": [
       "<AxesSubplot:xlabel='rosiglitazone', ylabel='count'>"
      ]
     },
     "execution_count": 22,
     "metadata": {},
     "output_type": "execute_result"
    },
    {
     "data": {
      "image/png": "[encoded data removed]",
      "text/plain": [
       "<Figure size 432x288 with 1 Axes>"
      ]
     },
     "metadata": {
      "needs_background": "light"
     },
     "output_type": "display_data"
    }
   ],
   "source": [
    "sns.countplot(df_diabetes['rosiglitazone'])"
   ]
  },
  {
   "cell_type": "code",
   "execution_count": 23,
   "metadata": {},
   "outputs": [
    {
     "name": "stderr",
     "output_type": "stream",
     "text": [
      "C:\\Users\\athar\\Anaconda3\\lib\\site-packages\\seaborn\\_decorators.py:43: FutureWarning: Pass the following variable as a keyword arg: x. From version 0.12, the only valid positional argument will be `data`, and passing other arguments without an explicit keyword will result in an error or misinterpretation.\n",
      "  FutureWarning\n"
     ]
    },
    {
     "data": {
      "text/plain": [
       "<AxesSubplot:xlabel='acarbose', ylabel='count'>"
      ]
     },
     "execution_count": 23,
     "metadata": {},
     "output_type": "execute_result"
    },
    {
     "data": {
      "image/png": "[encoded data removed]",
      "text/plain": [
       "<Figure size 432x288 with 1 Axes>"
      ]
     },
     "metadata": {
      "needs_background": "light"
     },
     "output_type": "display_data"
    }
   ],
   "source": [
    "sns.countplot(df_diabetes['acarbose'])"
   ]
  },
  {
   "cell_type": "code",
   "execution_count": 24,
   "metadata": {},
   "outputs": [
    {
     "name": "stderr",
     "output_type": "stream",
     "text": [
      "C:\\Users\\athar\\Anaconda3\\lib\\site-packages\\seaborn\\_decorators.py:43: FutureWarning: Pass the following variable as a keyword arg: x. From version 0.12, the only valid positional argument will be `data`, and passing other arguments without an explicit keyword will result in an error or misinterpretation.\n",
      "  FutureWarning\n"
     ]
    },
    {
     "data": {
      "text/plain": [
       "<AxesSubplot:xlabel='miglitol', ylabel='count'>"
      ]
     },
     "execution_count": 24,
     "metadata": {},
     "output_type": "execute_result"
    },
    {
     "data": {
      "image/png": "[encoded data removed]",
      "text/plain": [
       "<Figure size 432x288 with 1 Axes>"
      ]
     },
     "metadata": {
      "needs_background": "light"
     },
     "output_type": "display_data"
    }
   ],
   "source": [
    "sns.countplot(df_diabetes['miglitol'])"
   ]
  },
  {
   "cell_type": "code",
   "execution_count": 25,
   "metadata": {},
   "outputs": [
    {
     "name": "stderr",
     "output_type": "stream",
     "text": [
      "C:\\Users\\athar\\Anaconda3\\lib\\site-packages\\seaborn\\_decorators.py:43: FutureWarning: Pass the following variable as a keyword arg: x. From version 0.12, the only valid positional argument will be `data`, and passing other arguments without an explicit keyword will result in an error or misinterpretation.\n",
      "  FutureWarning\n"
     ]
    },
    {
     "data": {
      "text/plain": [
       "<AxesSubplot:xlabel='troglitazone', ylabel='count'>"
      ]
     },
     "execution_count": 25,
     "metadata": {},
     "output_type": "execute_result"
    },
    {
     "data": {
      "image/png": "[encoded data removed]",
      "text/plain": [
       "<Figure size 432x288 with 1 Axes>"
      ]
     },
     "metadata": {
      "needs_background": "light"
     },
     "output_type": "display_data"
    }
   ],
   "source": [
    "sns.countplot(df_diabetes['troglitazone'])"
   ]
  },
  {
   "cell_type": "code",
   "execution_count": 26,
   "metadata": {},
   "outputs": [
    {
     "name": "stderr",
     "output_type": "stream",
     "text": [
      "C:\\Users\\athar\\Anaconda3\\lib\\site-packages\\seaborn\\_decorators.py:43: FutureWarning: Pass the following variable as a keyword arg: x. From version 0.12, the only valid positional argument will be `data`, and passing other arguments without an explicit keyword will result in an error or misinterpretation.\n",
      "  FutureWarning\n"
     ]
    },
    {
     "data": {
      "text/plain": [
       "<AxesSubplot:xlabel='tolazamide', ylabel='count'>"
      ]
     },
     "execution_count": 26,
     "metadata": {},
     "output_type": "execute_result"
    },
    {
     "data": {
      "image/png": "[encoded data removed]",
      "text/plain": [
       "<Figure size 432x288 with 1 Axes>"
      ]
     },
     "metadata": {
      "needs_background": "light"
     },
     "output_type": "display_data"
    }
   ],
   "source": [
    "sns.countplot(df_diabetes['tolazamide'])"
   ]
  },
  {
   "cell_type": "code",
   "execution_count": 27,
   "metadata": {},
   "outputs": [
    {
     "name": "stderr",
     "output_type": "stream",
     "text": [
      "C:\\Users\\athar\\Anaconda3\\lib\\site-packages\\seaborn\\_decorators.py:43: FutureWarning: Pass the following variable as a keyword arg: x. From version 0.12, the only valid positional argument will be `data`, and passing other arguments without an explicit keyword will result in an error or misinterpretation.\n",
      "  FutureWarning\n"
     ]
    },
    {
     "data": {
      "text/plain": [
       "<AxesSubplot:xlabel='examide', ylabel='count'>"
      ]
     },
     "execution_count": 27,
     "metadata": {},
     "output_type": "execute_result"
    },
    {
     "data": {
      "image/png": "[encoded data removed]",
      "text/plain": [
       "<Figure size 432x288 with 1 Axes>"
      ]
     },
     "metadata": {
      "needs_background": "light"
     },
     "output_type": "display_data"
    }
   ],
   "source": [
    "sns.countplot(df_diabetes['examide'])"
   ]
  },
  {
   "cell_type": "code",
   "execution_count": 28,
   "metadata": {},
   "outputs": [
    {
     "name": "stderr",
     "output_type": "stream",
     "text": [
      "C:\\Users\\athar\\Anaconda3\\lib\\site-packages\\seaborn\\_decorators.py:43: FutureWarning: Pass the following variable as a keyword arg: x. From version 0.12, the only valid positional argument will be `data`, and passing other arguments without an explicit keyword will result in an error or misinterpretation.\n",
      "  FutureWarning\n"
     ]
    },
    {
     "data": {
      "text/plain": [
       "<AxesSubplot:xlabel='citoglipton', ylabel='count'>"
      ]
     },
     "execution_count": 28,
     "metadata": {},
     "output_type": "execute_result"
    },
    {
     "data": {
      "image/png": "[encoded data removed]",
      "text/plain": [
       "<Figure size 432x288 with 1 Axes>"
      ]
     },
     "metadata": {
      "needs_background": "light"
     },
     "output_type": "display_data"
    }
   ],
   "source": [
    "sns.countplot(df_diabetes['citoglipton'])"
   ]
  },
  {
   "cell_type": "code",
   "execution_count": 29,
   "metadata": {},
   "outputs": [
    {
     "name": "stderr",
     "output_type": "stream",
     "text": [
      "C:\\Users\\athar\\Anaconda3\\lib\\site-packages\\seaborn\\_decorators.py:43: FutureWarning: Pass the following variable as a keyword arg: x. From version 0.12, the only valid positional argument will be `data`, and passing other arguments without an explicit keyword will result in an error or misinterpretation.\n",
      "  FutureWarning\n"
     ]
    },
    {
     "data": {
      "text/plain": [
       "<AxesSubplot:xlabel='insulin', ylabel='count'>"
      ]
     },
     "execution_count": 29,
     "metadata": {},
     "output_type": "execute_result"
    },
    {
     "data": {
      "image/png": "[encoded data removed]",
      "text/plain": [
       "<Figure size 432x288 with 1 Axes>"
      ]
     },
     "metadata": {
      "needs_background": "light"
     },
     "output_type": "display_data"
    }
   ],
   "source": [
    "sns.countplot(df_diabetes['insulin'])"
   ]
  },
  {
   "cell_type": "code",
   "execution_count": 30,
   "metadata": {},
   "outputs": [
    {
     "name": "stderr",
     "output_type": "stream",
     "text": [
      "C:\\Users\\athar\\Anaconda3\\lib\\site-packages\\seaborn\\_decorators.py:43: FutureWarning: Pass the following variable as a keyword arg: x. From version 0.12, the only valid positional argument will be `data`, and passing other arguments without an explicit keyword will result in an error or misinterpretation.\n",
      "  FutureWarning\n"
     ]
    },
    {
     "data": {
      "text/plain": [
       "<AxesSubplot:xlabel='glyburide-metformin', ylabel='count'>"
      ]
     },
     "execution_count": 30,
     "metadata": {},
     "output_type": "execute_result"
    },
    {
     "data": {
      "image/png": "[encoded data removed]",
      "text/plain": [
       "<Figure size 432x288 with 1 Axes>"
      ]
     },
     "metadata": {
      "needs_background": "light"
     },
     "output_type": "display_data"
    }
   ],
   "source": [
    "sns.countplot(df_diabetes['glyburide-metformin'])"
   ]
  },
  {
   "cell_type": "code",
   "execution_count": 31,
   "metadata": {},
   "outputs": [
    {
     "name": "stderr",
     "output_type": "stream",
     "text": [
      "C:\\Users\\athar\\Anaconda3\\lib\\site-packages\\seaborn\\_decorators.py:43: FutureWarning: Pass the following variable as a keyword arg: x. From version 0.12, the only valid positional argument will be `data`, and passing other arguments without an explicit keyword will result in an error or misinterpretation.\n",
      "  FutureWarning\n"
     ]
    },
    {
     "data": {
      "text/plain": [
       "<AxesSubplot:xlabel='glipizide-metformin', ylabel='count'>"
      ]
     },
     "execution_count": 31,
     "metadata": {},
     "output_type": "execute_result"
    },
    {
     "data": {
      "image/png": "[encoded data removed]",
      "text/plain": [
       "<Figure size 432x288 with 1 Axes>"
      ]
     },
     "metadata": {
      "needs_background": "light"
     },
     "output_type": "display_data"
    }
   ],
   "source": [
    "sns.countplot(df_diabetes['glipizide-metformin'])"
   ]
  },
  {
   "cell_type": "code",
   "execution_count": 32,
   "metadata": {},
   "outputs": [
    {
     "name": "stderr",
     "output_type": "stream",
     "text": [
      "C:\\Users\\athar\\Anaconda3\\lib\\site-packages\\seaborn\\_decorators.py:43: FutureWarning: Pass the following variable as a keyword arg: x. From version 0.12, the only valid positional argument will be `data`, and passing other arguments without an explicit keyword will result in an error or misinterpretation.\n",
      "  FutureWarning\n"
     ]
    },
    {
     "data": {
      "text/plain": [
       "<AxesSubplot:xlabel='glimepiride-pioglitazone', ylabel='count'>"
      ]
     },
     "execution_count": 32,
     "metadata": {},
     "output_type": "execute_result"
    },
    {
     "data": {
      "image/png": "[encoded data removed]",
      "text/plain": [
       "<Figure size 432x288 with 1 Axes>"
      ]
     },
     "metadata": {
      "needs_background": "light"
     },
     "output_type": "display_data"
    }
   ],
   "source": [
    "sns.countplot(df_diabetes['glimepiride-pioglitazone'])"
   ]
  },
  {
   "cell_type": "code",
   "execution_count": 33,
   "metadata": {},
   "outputs": [
    {
     "name": "stderr",
     "output_type": "stream",
     "text": [
      "C:\\Users\\athar\\Anaconda3\\lib\\site-packages\\seaborn\\_decorators.py:43: FutureWarning: Pass the following variable as a keyword arg: x. From version 0.12, the only valid positional argument will be `data`, and passing other arguments without an explicit keyword will result in an error or misinterpretation.\n",
      "  FutureWarning\n"
     ]
    },
    {
     "data": {
      "text/plain": [
       "<AxesSubplot:xlabel='metformin-rosiglitazone', ylabel='count'>"
      ]
     },
     "execution_count": 33,
     "metadata": {},
     "output_type": "execute_result"
    },
    {
     "data": {
      "image/png": "[encoded data removed]",
      "text/plain": [
       "<Figure size 432x288 with 1 Axes>"
      ]
     },
     "metadata": {
      "needs_background": "light"
     },
     "output_type": "display_data"
    }
   ],
   "source": [
    "sns.countplot(df_diabetes['metformin-rosiglitazone'])"
   ]
  },
  {
   "cell_type": "code",
   "execution_count": 34,
   "metadata": {},
   "outputs": [
    {
     "name": "stderr",
     "output_type": "stream",
     "text": [
      "C:\\Users\\athar\\Anaconda3\\lib\\site-packages\\seaborn\\_decorators.py:43: FutureWarning: Pass the following variable as a keyword arg: x. From version 0.12, the only valid positional argument will be `data`, and passing other arguments without an explicit keyword will result in an error or misinterpretation.\n",
      "  FutureWarning\n"
     ]
    },
    {
     "data": {
      "text/plain": [
       "<AxesSubplot:xlabel='metformin-pioglitazone', ylabel='count'>"
      ]
     },
     "execution_count": 34,
     "metadata": {},
     "output_type": "execute_result"
    },
    {
     "data": {
      "image/png": "[encoded data removed]",
      "text/plain": [
       "<Figure size 432x288 with 1 Axes>"
      ]
     },
     "metadata": {
      "needs_background": "light"
     },
     "output_type": "display_data"
    }
   ],
   "source": [
    "sns.countplot(df_diabetes['metformin-pioglitazone'])"
   ]
  },
  {
   "cell_type": "code",
   "execution_count": 35,
   "metadata": {},
   "outputs": [
    {
     "name": "stderr",
     "output_type": "stream",
     "text": [
      "C:\\Users\\athar\\Anaconda3\\lib\\site-packages\\seaborn\\_decorators.py:43: FutureWarning: Pass the following variable as a keyword arg: x. From version 0.12, the only valid positional argument will be `data`, and passing other arguments without an explicit keyword will result in an error or misinterpretation.\n",
      "  FutureWarning\n"
     ]
    },
    {
     "data": {
      "text/plain": [
       "<AxesSubplot:xlabel='change', ylabel='count'>"
      ]
     },
     "execution_count": 35,
     "metadata": {},
     "output_type": "execute_result"
    },
    {
     "data": {
      "image/png": "[encoded data removed]",
      "text/plain": [
       "<Figure size 432x288 with 1 Axes>"
      ]
     },
     "metadata": {
      "needs_background": "light"
     },
     "output_type": "display_data"
    }
   ],
   "source": [
    "sns.countplot(df_diabetes['change'])"
   ]
  },
  {
   "cell_type": "code",
   "execution_count": 36,
   "metadata": {},
   "outputs": [
    {
     "name": "stderr",
     "output_type": "stream",
     "text": [
      "C:\\Users\\athar\\Anaconda3\\lib\\site-packages\\seaborn\\_decorators.py:43: FutureWarning: Pass the following variable as a keyword arg: x. From version 0.12, the only valid positional argument will be `data`, and passing other arguments without an explicit keyword will result in an error or misinterpretation.\n",
      "  FutureWarning\n"
     ]
    },
    {
     "data": {
      "text/plain": [
       "<AxesSubplot:xlabel='diabetesMed', ylabel='count'>"
      ]
     },
     "execution_count": 36,
     "metadata": {},
     "output_type": "execute_result"
    },
    {
     "data": {
      "image/png": "[encoded data removed]",
      "text/plain": [
       "<Figure size 432x288 with 1 Axes>"
      ]
     },
     "metadata": {
      "needs_background": "light"
     },
     "output_type": "display_data"
    }
   ],
   "source": [
    "sns.countplot(df_diabetes['diabetesMed'])"
   ]
  },
  {
   "cell_type": "code",
   "execution_count": 37,
   "metadata": {},
   "outputs": [
    {
     "name": "stderr",
     "output_type": "stream",
     "text": [
      "C:\\Users\\athar\\Anaconda3\\lib\\site-packages\\seaborn\\_decorators.py:43: FutureWarning: Pass the following variable as a keyword arg: x. From version 0.12, the only valid positional argument will be `data`, and passing other arguments without an explicit keyword will result in an error or misinterpretation.\n",
      "  FutureWarning\n"
     ]
    },
    {
     "data": {
      "text/plain": [
       "<AxesSubplot:xlabel='readmitted', ylabel='count'>"
      ]
     },
     "execution_count": 37,
     "metadata": {},
     "output_type": "execute_result"
    },
    {
     "data": {
      "image/png": "[encoded data removed]",
      "text/plain": [
       "<Figure size 432x288 with 1 Axes>"
      ]
     },
     "metadata": {
      "needs_background": "light"
     },
     "output_type": "display_data"
    }
   ],
   "source": [
    "sns.countplot(df_diabetes['readmitted'])"
   ]
  },
  {
   "cell_type": "code",
   "execution_count": 38,
   "metadata": {
    "scrolled": false
   },
   "outputs": [
    {
     "name": "stderr",
     "output_type": "stream",
     "text": [
      "C:\\Users\\athar\\Anaconda3\\lib\\site-packages\\seaborn\\_decorators.py:43: FutureWarning: Pass the following variables as keyword args: x, y. From version 0.12, the only valid positional argument will be `data`, and passing other arguments without an explicit keyword will result in an error or misinterpretation.\n",
      "  FutureWarning\n"
     ]
    },
    {
     "data": {
      "text/plain": [
       "<AxesSubplot:xlabel='age', ylabel='time_in_hospital'>"
      ]
     },
     "execution_count": 38,
     "metadata": {},
     "output_type": "execute_result"
    },
    {
     "data": {
      "image/png": "[encoded data removed]",
      "text/plain": [
       "<Figure size 432x288 with 1 Axes>"
      ]
     },
     "metadata": {
      "needs_background": "light"
     },
     "output_type": "display_data"
    }
   ],
   "source": [
    "sns.lineplot(df_diabetes['age'],df_diabetes['time_in_hospital'])"
   ]
  },
  {
   "cell_type": "code",
   "execution_count": 39,
   "metadata": {},
   "outputs": [
    {
     "name": "stderr",
     "output_type": "stream",
     "text": [
      "C:\\Users\\athar\\Anaconda3\\lib\\site-packages\\seaborn\\_decorators.py:43: FutureWarning: Pass the following variables as keyword args: x, y. From version 0.12, the only valid positional argument will be `data`, and passing other arguments without an explicit keyword will result in an error or misinterpretation.\n",
      "  FutureWarning\n"
     ]
    },
    {
     "data": {
      "text/plain": [
       "<AxesSubplot:xlabel='age', ylabel='num_lab_procedures'>"
      ]
     },
     "execution_count": 39,
     "metadata": {},
     "output_type": "execute_result"
    },
    {
     "data": {
      "image/png": "[encoded data removed]",
      "text/plain": [
       "<Figure size 432x288 with 1 Axes>"
      ]
     },
     "metadata": {
      "needs_background": "light"
     },
     "output_type": "display_data"
    }
   ],
   "source": [
    "sns.lineplot(df_diabetes['age'],df_diabetes['num_lab_procedures'])"
   ]
  },
  {
   "cell_type": "code",
   "execution_count": 40,
   "metadata": {},
   "outputs": [
    {
     "name": "stderr",
     "output_type": "stream",
     "text": [
      "C:\\Users\\athar\\Anaconda3\\lib\\site-packages\\seaborn\\_decorators.py:43: FutureWarning: Pass the following variables as keyword args: x, y. From version 0.12, the only valid positional argument will be `data`, and passing other arguments without an explicit keyword will result in an error or misinterpretation.\n",
      "  FutureWarning\n"
     ]
    },
    {
     "data": {
      "text/plain": [
       "<AxesSubplot:xlabel='age', ylabel='num_procedures'>"
      ]
     },
     "execution_count": 40,
     "metadata": {},
     "output_type": "execute_result"
    },
    {
     "data": {
      "image/png": "[encoded data removed]",
      "text/plain": [
       "<Figure size 432x288 with 1 Axes>"
      ]
     },
     "metadata": {
      "needs_background": "light"
     },
     "output_type": "display_data"
    }
   ],
   "source": [
    "sns.lineplot(df_diabetes['age'],df_diabetes['num_procedures'])"
   ]
  },
  {
   "cell_type": "code",
   "execution_count": 41,
   "metadata": {},
   "outputs": [
    {
     "name": "stderr",
     "output_type": "stream",
     "text": [
      "C:\\Users\\athar\\Anaconda3\\lib\\site-packages\\seaborn\\_decorators.py:43: FutureWarning: Pass the following variables as keyword args: x, y. From version 0.12, the only valid positional argument will be `data`, and passing other arguments without an explicit keyword will result in an error or misinterpretation.\n",
      "  FutureWarning\n"
     ]
    },
    {
     "data": {
      "text/plain": [
       "<AxesSubplot:xlabel='age', ylabel='number_outpatient'>"
      ]
     },
     "execution_count": 41,
     "metadata": {},
     "output_type": "execute_result"
    },
    {
     "data": {
      "image/png": "[encoded data removed]",
      "text/plain": [
       "<Figure size 432x288 with 1 Axes>"
      ]
     },
     "metadata": {
      "needs_background": "light"
     },
     "output_type": "display_data"
    }
   ],
   "source": [
    "sns.lineplot(df_diabetes['age'],df_diabetes['number_outpatient'])"
   ]
  },
  {
   "cell_type": "code",
   "execution_count": 42,
   "metadata": {},
   "outputs": [
    {
     "name": "stderr",
     "output_type": "stream",
     "text": [
      "C:\\Users\\athar\\Anaconda3\\lib\\site-packages\\seaborn\\_decorators.py:43: FutureWarning: Pass the following variables as keyword args: x, y. From version 0.12, the only valid positional argument will be `data`, and passing other arguments without an explicit keyword will result in an error or misinterpretation.\n",
      "  FutureWarning\n"
     ]
    },
    {
     "data": {
      "text/plain": [
       "<AxesSubplot:xlabel='age', ylabel='number_inpatient'>"
      ]
     },
     "execution_count": 42,
     "metadata": {},
     "output_type": "execute_result"
    },
    {
     "data": {
      "image/png": "[encoded data removed]",
      "text/plain": [
       "<Figure size 432x288 with 1 Axes>"
      ]
     },
     "metadata": {
      "needs_background": "light"
     },
     "output_type": "display_data"
    }
   ],
   "source": [
    "sns.lineplot(df_diabetes['age'],df_diabetes['number_inpatient'])"
   ]
  },
  {
   "cell_type": "code",
   "execution_count": 43,
   "metadata": {},
   "outputs": [
    {
     "name": "stderr",
     "output_type": "stream",
     "text": [
      "C:\\Users\\athar\\Anaconda3\\lib\\site-packages\\seaborn\\_decorators.py:43: FutureWarning: Pass the following variables as keyword args: x, y. From version 0.12, the only valid positional argument will be `data`, and passing other arguments without an explicit keyword will result in an error or misinterpretation.\n",
      "  FutureWarning\n"
     ]
    },
    {
     "data": {
      "text/plain": [
       "<AxesSubplot:xlabel='age', ylabel='number_diagnoses'>"
      ]
     },
     "execution_count": 43,
     "metadata": {},
     "output_type": "execute_result"
    },
    {
     "data": {
      "image/png": "[encoded data removed]",
      "text/plain": [
       "<Figure size 432x288 with 1 Axes>"
      ]
     },
     "metadata": {
      "needs_background": "light"
     },
     "output_type": "display_data"
    }
   ],
   "source": [
    "sns.lineplot(df_diabetes['age'],df_diabetes['number_diagnoses'])"
   ]
  },
  {
   "cell_type": "code",
   "execution_count": 44,
   "metadata": {},
   "outputs": [
    {
     "data": {
      "text/plain": [
       "encounter_id                0\n",
       "patient_nbr                 0\n",
       "race                        0\n",
       "gender                      0\n",
       "age                         0\n",
       "weight                      0\n",
       "admission_type_id           0\n",
       "discharge_disposition_id    0\n",
       "admission_source_id         0\n",
       "time_in_hospital            0\n",
       "payer_code                  0\n",
       "medical_specialty           0\n",
       "num_lab_procedures          0\n",
       "num_procedures              0\n",
       "num_medications             0\n",
       "number_outpatient           0\n",
       "number_emergency            0\n",
       "number_inpatient            0\n",
       "number_diagnoses            0\n",
       "max_glu_serum               0\n",
       "A1Cresult                   0\n",
       "metformin                   0\n",
       "repaglinide                 0\n",
       "nateglinide                 0\n",
       "chlorpropamide              0\n",
       "glimepiride                 0\n",
       "acetohexamide               0\n",
       "glipizide                   0\n",
       "glyburide                   0\n",
       "tolbutamide                 0\n",
       "pioglitazone                0\n",
       "rosiglitazone               0\n",
       "acarbose                    0\n",
       "miglitol                    0\n",
       "troglitazone                0\n",
       "tolazamide                  0\n",
       "examide                     0\n",
       "citoglipton                 0\n",
       "insulin                     0\n",
       "glyburide-metformin         0\n",
       "glipizide-metformin         0\n",
       "glimepiride-pioglitazone    0\n",
       "metformin-rosiglitazone     0\n",
       "metformin-pioglitazone      0\n",
       "change                      0\n",
       "diabetesMed                 0\n",
       "readmitted                  0\n",
       "dtype: int64"
      ]
     },
     "execution_count": 44,
     "metadata": {},
     "output_type": "execute_result"
    }
   ],
   "source": [
    "df_diabetes.isnull().sum()"
   ]
  },
  {
   "cell_type": "code",
   "execution_count": 45,
   "metadata": {},
   "outputs": [],
   "source": [
    "df_diabetes = df_diabetes.replace('?', np.NaN)"
   ]
  },
  {
   "cell_type": "code",
   "execution_count": 46,
   "metadata": {},
   "outputs": [
    {
     "data": {
      "text/plain": [
       "encounter_id                    0\n",
       "patient_nbr                     0\n",
       "race                         2234\n",
       "gender                          0\n",
       "age                             0\n",
       "weight                      97606\n",
       "admission_type_id               0\n",
       "discharge_disposition_id        0\n",
       "admission_source_id             0\n",
       "time_in_hospital                0\n",
       "payer_code                  40115\n",
       "medical_specialty           49269\n",
       "num_lab_procedures              0\n",
       "num_procedures                  0\n",
       "num_medications                 0\n",
       "number_outpatient               0\n",
       "number_emergency                0\n",
       "number_inpatient                0\n",
       "number_diagnoses                0\n",
       "max_glu_serum                   0\n",
       "A1Cresult                       0\n",
       "metformin                       0\n",
       "repaglinide                     0\n",
       "nateglinide                     0\n",
       "chlorpropamide                  0\n",
       "glimepiride                     0\n",
       "acetohexamide                   0\n",
       "glipizide                       0\n",
       "glyburide                       0\n",
       "tolbutamide                     0\n",
       "pioglitazone                    0\n",
       "rosiglitazone                   0\n",
       "acarbose                        0\n",
       "miglitol                        0\n",
       "troglitazone                    0\n",
       "tolazamide                      0\n",
       "examide                         0\n",
       "citoglipton                     0\n",
       "insulin                         0\n",
       "glyburide-metformin             0\n",
       "glipizide-metformin             0\n",
       "glimepiride-pioglitazone        0\n",
       "metformin-rosiglitazone         0\n",
       "metformin-pioglitazone          0\n",
       "change                          0\n",
       "diabetesMed                     0\n",
       "readmitted                      0\n",
       "dtype: int64"
      ]
     },
     "execution_count": 46,
     "metadata": {},
     "output_type": "execute_result"
    }
   ],
   "source": [
    "df_diabetes.isnull().sum()"
   ]
  },
  {
   "cell_type": "code",
   "execution_count": 47,
   "metadata": {},
   "outputs": [
    {
     "name": "stdout",
     "output_type": "stream",
     "text": [
      "encounter_id:[  2278392    149190     64410 ... 430307870 430745762 430748252]\n",
      "patient_nbr:[  8222157  55629189  86047875 ...  84570804 160311758  86585868]\n",
      "race:['Caucasian' 'AfricanAmerican' nan 'Other' 'Asian' 'Hispanic']\n",
      "gender:['Female' 'Male' 'Unknown/Invalid']\n",
      "age:['[0-10)' '[10-20)' '[20-30)' '[30-40)' '[40-50)' '[50-60)' '[60-70)'\n",
      " '[70-80)' '[80-90)' '[90-100)']\n",
      "weight:[nan '[75-100)' '[50-75)' '[0-25)' '[100-125)' '[25-50)' '[125-150)'\n",
      " '[175-200)' '[150-175)' '>200']\n",
      "admission_type_id:[6 1 2 3 4 5 8 7]\n",
      "discharge_disposition_id:[25  1  3  6  2  5 11  7 10  4 14 18  8 13 12 16 17 22 23  9 20 15 24 28\n",
      " 19 27]\n",
      "admission_source_id:[ 1  7  2  4  5  6 20  3 17  8  9 14 10 22 11 25 13]\n",
      "time_in_hospital:[ 1  3  2  4  5 13 12  9  7 10  6 11  8 14]\n",
      "payer_code:[nan 'MC' 'MD' 'HM' 'UN' 'BC' 'SP' 'CP' 'SI' 'DM' 'CM' 'CH' 'PO' 'WC' 'OT'\n",
      " 'OG' 'MP' 'FR']\n",
      "medical_specialty:['Pediatrics-Endocrinology' nan 'InternalMedicine'\n",
      " 'Family/GeneralPractice' 'Cardiology' 'Surgery-General' 'Orthopedics'\n",
      " 'Gastroenterology' 'Surgery-Cardiovascular/Thoracic' 'Nephrology'\n",
      " 'Orthopedics-Reconstructive' 'Psychiatry' 'Emergency/Trauma'\n",
      " 'Pulmonology' 'Surgery-Neuro' 'Obsterics&Gynecology-GynecologicOnco'\n",
      " 'ObstetricsandGynecology' 'Pediatrics' 'Hematology/Oncology'\n",
      " 'Otolaryngology' 'Surgery-Colon&Rectal' 'Pediatrics-CriticalCare'\n",
      " 'Endocrinology' 'Urology' 'Psychiatry-Child/Adolescent'\n",
      " 'Pediatrics-Pulmonology' 'Neurology' 'Anesthesiology-Pediatric'\n",
      " 'Radiology' 'Pediatrics-Hematology-Oncology' 'Psychology' 'Podiatry'\n",
      " 'Gynecology' 'Oncology' 'Pediatrics-Neurology' 'Surgery-Plastic'\n",
      " 'Surgery-Thoracic' 'Surgery-PlasticwithinHeadandNeck' 'Ophthalmology'\n",
      " 'Surgery-Pediatric' 'Pediatrics-EmergencyMedicine'\n",
      " 'PhysicalMedicineandRehabilitation' 'InfectiousDiseases' 'Anesthesiology'\n",
      " 'Rheumatology' 'AllergyandImmunology' 'Surgery-Maxillofacial'\n",
      " 'Pediatrics-InfectiousDiseases' 'Pediatrics-AllergyandImmunology'\n",
      " 'Dentistry' 'Surgeon' 'Surgery-Vascular' 'Osteopath'\n",
      " 'Psychiatry-Addictive' 'Surgery-Cardiovascular' 'PhysicianNotFound'\n",
      " 'Hematology' 'Proctology' 'Obstetrics' 'SurgicalSpecialty' 'Radiologist'\n",
      " 'Pathology' 'Dermatology' 'SportsMedicine' 'Speech' 'Hospitalist'\n",
      " 'OutreachServices' 'Cardiology-Pediatric' 'Perinatology'\n",
      " 'Neurophysiology' 'Endocrinology-Metabolism' 'DCPTEAM' 'Resident']\n",
      "num_lab_procedures:[ 41  59  11  44  51  31  70  73  68  33  47  62  60  55  49  75  45  29\n",
      "  35  42  66  36  19  64  25  53  52  87  27  37  46  28  48  72  10   2\n",
      "  65  67  40  54  58  57  43  32  83  34  39  69  38  56  22  96  78  61\n",
      "  88  50   1  18  82   9  63  24  71  77  81  76  90  93   3 103  13  80\n",
      "  85  16  15  12  30  23  17  21  79  26   5  95  97  84  14  74 105  86\n",
      "  98  20   6  94   8 102 100   7  89  91  92   4 101  99 114 113 111 129\n",
      " 107 108 106 104 109 120 132 121 126 118]\n",
      "num_procedures:[0 5 1 6 2 3 4]\n",
      "num_medications:[ 1 18 13 16  8 21 12 28 17 11 15 31  2 23 19  7 20 14 10 22  9 27 25  4\n",
      " 32  6 30 26 24 33  5 39  3 29 61 40 46 41 36 34 35 50 43 42 37 51 38 45\n",
      " 54 52 49 62 55 47 44 53 48 57 59 56 60 63 58 70 67 64 69 65 68 66 81 79\n",
      " 75 72 74]\n",
      "number_outpatient:[ 0  2  1  5  7  9  3  8  4 12 11  6 20 15 10 13 14 16 21 35 17 29 36 18\n",
      " 19 27 22 24 42 39 34 26 33 25 23 28 37 38 40]\n",
      "number_emergency:[ 0  1  2  4  3  9  5  7  6  8 22 25 10 13 42 16 11 28 15 14 18 12 21 20\n",
      " 19 46 76 37 64 63 54 24]\n",
      "number_inpatient:[ 0  1  2  3  6  5  4  7  8  9 15 10 11 14 12 13 17 16 21 18 19]\n",
      "number_diagnoses:[ 1  9  6  7  5  8  3  4  2 16 12 13 15 10 11 14]\n",
      "max_glu_serum:['None' '>300' 'Norm' '>200']\n",
      "A1Cresult:['None' '>7' '>8' 'Norm']\n",
      "metformin:['No' 'Steady' 'Up' 'Down']\n",
      "repaglinide:['No' 'Up' 'Steady' 'Down']\n",
      "nateglinide:['No' 'Steady' 'Down' 'Up']\n",
      "chlorpropamide:['No' 'Steady' 'Down' 'Up']\n",
      "glimepiride:['No' 'Steady' 'Down' 'Up']\n",
      "acetohexamide:['No' 'Steady']\n",
      "glipizide:['No' 'Steady' 'Up' 'Down']\n",
      "glyburide:['No' 'Steady' 'Up' 'Down']\n",
      "tolbutamide:['No' 'Steady']\n",
      "pioglitazone:['No' 'Steady' 'Up' 'Down']\n",
      "rosiglitazone:['No' 'Steady' 'Up' 'Down']\n",
      "acarbose:['No' 'Steady' 'Up' 'Down']\n",
      "miglitol:['No' 'Steady' 'Down' 'Up']\n",
      "troglitazone:['No' 'Steady']\n",
      "tolazamide:['No' 'Steady' 'Up']\n",
      "examide:['No']\n",
      "citoglipton:['No']\n",
      "insulin:['No' 'Up' 'Steady' 'Down']\n",
      "glyburide-metformin:['No' 'Steady' 'Down' 'Up']\n",
      "glipizide-metformin:['No' 'Steady']\n",
      "glimepiride-pioglitazone:['No' 'Steady']\n",
      "metformin-rosiglitazone:['No' 'Steady']\n",
      "metformin-pioglitazone:['No' 'Steady']\n",
      "change:['No' 'Ch']\n",
      "diabetesMed:['No' 'Yes']\n",
      "readmitted:[0 1]\n"
     ]
    }
   ],
   "source": [
    "for i in df_diabetes.columns:\n",
    "    print(i + ':' + str(df_diabetes[i].unique()))"
   ]
  },
  {
   "cell_type": "code",
   "execution_count": 48,
   "metadata": {},
   "outputs": [],
   "source": [
    "df_diabetes['race'] = df_diabetes['race'].fillna(df_diabetes['race'].mode)"
   ]
  },
  {
   "cell_type": "code",
   "execution_count": 49,
   "metadata": {},
   "outputs": [
    {
     "data": {
      "text/plain": [
       "encounter_id                    0\n",
       "patient_nbr                     0\n",
       "race                            0\n",
       "gender                          0\n",
       "age                             0\n",
       "weight                      97606\n",
       "admission_type_id               0\n",
       "discharge_disposition_id        0\n",
       "admission_source_id             0\n",
       "time_in_hospital                0\n",
       "payer_code                  40115\n",
       "medical_specialty           49269\n",
       "num_lab_procedures              0\n",
       "num_procedures                  0\n",
       "num_medications                 0\n",
       "number_outpatient               0\n",
       "number_emergency                0\n",
       "number_inpatient                0\n",
       "number_diagnoses                0\n",
       "max_glu_serum                   0\n",
       "A1Cresult                       0\n",
       "metformin                       0\n",
       "repaglinide                     0\n",
       "nateglinide                     0\n",
       "chlorpropamide                  0\n",
       "glimepiride                     0\n",
       "acetohexamide                   0\n",
       "glipizide                       0\n",
       "glyburide                       0\n",
       "tolbutamide                     0\n",
       "pioglitazone                    0\n",
       "rosiglitazone                   0\n",
       "acarbose                        0\n",
       "miglitol                        0\n",
       "troglitazone                    0\n",
       "tolazamide                      0\n",
       "examide                         0\n",
       "citoglipton                     0\n",
       "insulin                         0\n",
       "glyburide-metformin             0\n",
       "glipizide-metformin             0\n",
       "glimepiride-pioglitazone        0\n",
       "metformin-rosiglitazone         0\n",
       "metformin-pioglitazone          0\n",
       "change                          0\n",
       "diabetesMed                     0\n",
       "readmitted                      0\n",
       "dtype: int64"
      ]
     },
     "execution_count": 49,
     "metadata": {},
     "output_type": "execute_result"
    }
   ],
   "source": [
    "df_diabetes.isnull().sum()"
   ]
  },
  {
   "cell_type": "code",
   "execution_count": 50,
   "metadata": {},
   "outputs": [],
   "source": [
    "df_diabetes = df_diabetes.drop(['weight', 'payer_code', 'medical_specialty'], axis = 1)"
   ]
  },
  {
   "cell_type": "code",
   "execution_count": 51,
   "metadata": {},
   "outputs": [
    {
     "data": {
      "text/plain": [
       "encounter_id                0\n",
       "patient_nbr                 0\n",
       "race                        0\n",
       "gender                      0\n",
       "age                         0\n",
       "admission_type_id           0\n",
       "discharge_disposition_id    0\n",
       "admission_source_id         0\n",
       "time_in_hospital            0\n",
       "num_lab_procedures          0\n",
       "num_procedures              0\n",
       "num_medications             0\n",
       "number_outpatient           0\n",
       "number_emergency            0\n",
       "number_inpatient            0\n",
       "number_diagnoses            0\n",
       "max_glu_serum               0\n",
       "A1Cresult                   0\n",
       "metformin                   0\n",
       "repaglinide                 0\n",
       "nateglinide                 0\n",
       "chlorpropamide              0\n",
       "glimepiride                 0\n",
       "acetohexamide               0\n",
       "glipizide                   0\n",
       "glyburide                   0\n",
       "tolbutamide                 0\n",
       "pioglitazone                0\n",
       "rosiglitazone               0\n",
       "acarbose                    0\n",
       "miglitol                    0\n",
       "troglitazone                0\n",
       "tolazamide                  0\n",
       "examide                     0\n",
       "citoglipton                 0\n",
       "insulin                     0\n",
       "glyburide-metformin         0\n",
       "glipizide-metformin         0\n",
       "glimepiride-pioglitazone    0\n",
       "metformin-rosiglitazone     0\n",
       "metformin-pioglitazone      0\n",
       "change                      0\n",
       "diabetesMed                 0\n",
       "readmitted                  0\n",
       "dtype: int64"
      ]
     },
     "execution_count": 51,
     "metadata": {},
     "output_type": "execute_result"
    }
   ],
   "source": [
    "df_diabetes.isnull().sum()"
   ]
  },
  {
   "cell_type": "code",
   "execution_count": 52,
   "metadata": {},
   "outputs": [
    {
     "data": {
      "text/plain": [
       "Female             54173\n",
       "Male               46590\n",
       "Unknown/Invalid        3\n",
       "Name: gender, dtype: int64"
      ]
     },
     "execution_count": 52,
     "metadata": {},
     "output_type": "execute_result"
    }
   ],
   "source": [
    "df_diabetes['gender'].value_counts()"
   ]
  },
  {
   "cell_type": "code",
   "execution_count": 53,
   "metadata": {},
   "outputs": [
    {
     "name": "stdout",
     "output_type": "stream",
     "text": [
      "<class 'pandas.core.frame.DataFrame'>\n",
      "RangeIndex: 100766 entries, 0 to 100765\n",
      "Data columns (total 44 columns):\n",
      " #   Column                    Non-Null Count   Dtype \n",
      "---  ------                    --------------   ----- \n",
      " 0   encounter_id              100766 non-null  int64 \n",
      " 1   patient_nbr               100766 non-null  int64 \n",
      " 2   race                      100766 non-null  object\n",
      " 3   gender                    100766 non-null  object\n",
      " 4   age                       100766 non-null  object\n",
      " 5   admission_type_id         100766 non-null  int64 \n",
      " 6   discharge_disposition_id  100766 non-null  int64 \n",
      " 7   admission_source_id       100766 non-null  int64 \n",
      " 8   time_in_hospital          100766 non-null  int64 \n",
      " 9   num_lab_procedures        100766 non-null  int64 \n",
      " 10  num_procedures            100766 non-null  int64 \n",
      " 11  num_medications           100766 non-null  int64 \n",
      " 12  number_outpatient         100766 non-null  int64 \n",
      " 13  number_emergency          100766 non-null  int64 \n",
      " 14  number_inpatient          100766 non-null  int64 \n",
      " 15  number_diagnoses          100766 non-null  int64 \n",
      " 16  max_glu_serum             100766 non-null  object\n",
      " 17  A1Cresult                 100766 non-null  object\n",
      " 18  metformin                 100766 non-null  object\n",
      " 19  repaglinide               100766 non-null  object\n",
      " 20  nateglinide               100766 non-null  object\n",
      " 21  chlorpropamide            100766 non-null  object\n",
      " 22  glimepiride               100766 non-null  object\n",
      " 23  acetohexamide             100766 non-null  object\n",
      " 24  glipizide                 100766 non-null  object\n",
      " 25  glyburide                 100766 non-null  object\n",
      " 26  tolbutamide               100766 non-null  object\n",
      " 27  pioglitazone              100766 non-null  object\n",
      " 28  rosiglitazone             100766 non-null  object\n",
      " 29  acarbose                  100766 non-null  object\n",
      " 30  miglitol                  100766 non-null  object\n",
      " 31  troglitazone              100766 non-null  object\n",
      " 32  tolazamide                100766 non-null  object\n",
      " 33  examide                   100766 non-null  object\n",
      " 34  citoglipton               100766 non-null  object\n",
      " 35  insulin                   100766 non-null  object\n",
      " 36  glyburide-metformin       100766 non-null  object\n",
      " 37  glipizide-metformin       100766 non-null  object\n",
      " 38  glimepiride-pioglitazone  100766 non-null  object\n",
      " 39  metformin-rosiglitazone   100766 non-null  object\n",
      " 40  metformin-pioglitazone    100766 non-null  object\n",
      " 41  change                    100766 non-null  object\n",
      " 42  diabetesMed               100766 non-null  object\n",
      " 43  readmitted                100766 non-null  int64 \n",
      "dtypes: int64(14), object(30)\n",
      "memory usage: 33.8+ MB\n"
     ]
    }
   ],
   "source": [
    "df_diabetes.info()"
   ]
  },
  {
   "cell_type": "code",
   "execution_count": 54,
   "metadata": {},
   "outputs": [
    {
     "data": {
      "text/plain": [
       "encounter_id                  2278392\n",
       "patient_nbr                   8222157\n",
       "race                        Caucasian\n",
       "gender                         Female\n",
       "age                            [0-10)\n",
       "admission_type_id                   6\n",
       "discharge_disposition_id           25\n",
       "admission_source_id                 1\n",
       "time_in_hospital                    1\n",
       "num_lab_procedures                 41\n",
       "num_procedures                      0\n",
       "num_medications                     1\n",
       "number_outpatient                   0\n",
       "number_emergency                    0\n",
       "number_inpatient                    0\n",
       "number_diagnoses                    1\n",
       "max_glu_serum                    None\n",
       "A1Cresult                        None\n",
       "metformin                          No\n",
       "repaglinide                        No\n",
       "nateglinide                        No\n",
       "chlorpropamide                     No\n",
       "glimepiride                        No\n",
       "acetohexamide                      No\n",
       "glipizide                          No\n",
       "glyburide                          No\n",
       "tolbutamide                        No\n",
       "pioglitazone                       No\n",
       "rosiglitazone                      No\n",
       "acarbose                           No\n",
       "miglitol                           No\n",
       "troglitazone                       No\n",
       "tolazamide                         No\n",
       "examide                            No\n",
       "citoglipton                        No\n",
       "insulin                            No\n",
       "glyburide-metformin                No\n",
       "glipizide-metformin                No\n",
       "glimepiride-pioglitazone           No\n",
       "metformin-rosiglitazone            No\n",
       "metformin-pioglitazone             No\n",
       "change                             No\n",
       "diabetesMed                        No\n",
       "readmitted                          0\n",
       "Name: 0, dtype: object"
      ]
     },
     "execution_count": 54,
     "metadata": {},
     "output_type": "execute_result"
    }
   ],
   "source": [
    "df_diabetes.iloc[0]"
   ]
  },
  {
   "cell_type": "code",
   "execution_count": 55,
   "metadata": {},
   "outputs": [
    {
     "data": {
      "text/plain": [
       "array(['None', '>300', 'Norm', '>200'], dtype=object)"
      ]
     },
     "execution_count": 55,
     "metadata": {},
     "output_type": "execute_result"
    }
   ],
   "source": [
    "df_diabetes['max_glu_serum'].unique()"
   ]
  },
  {
   "cell_type": "code",
   "execution_count": 56,
   "metadata": {},
   "outputs": [],
   "source": [
    "df_diabetes = df_diabetes.drop(['encounter_id', 'patient_nbr', 'examide', 'citoglipton'], axis = 1)\n",
    "#examide and citoglipton since it has only one value"
   ]
  },
  {
   "cell_type": "code",
   "execution_count": 57,
   "metadata": {
    "scrolled": false
   },
   "outputs": [],
   "source": [
    "df_diabetes['race'] = df_diabetes.race.astype('string')\n",
    "df_diabetes['race'] = df_diabetes.race.astype('category')\n",
    "df_diabetes['gender'] = df_diabetes['gender'].astype('category')\n",
    "df_diabetes['age'] = df_diabetes['age'].astype('category')\n",
    "df_diabetes['admission_type_id'] = df_diabetes['admission_type_id'].astype('category')\n",
    "df_diabetes['discharge_disposition_id'] = df_diabetes['discharge_disposition_id'].astype('category')\n",
    "df_diabetes['admission_source_id'] = df_diabetes['admission_source_id'].astype('category')\n",
    "df_diabetes['A1Cresult'] = df_diabetes['A1Cresult'].astype('category')\n",
    "df_diabetes['max_glu_serum'] = df_diabetes['max_glu_serum'].astype('category')\n",
    "df_diabetes['metformin'] = df_diabetes['metformin'].astype('category')\n",
    "df_diabetes['repaglinide'] = df_diabetes['repaglinide'].astype('category')\n",
    "df_diabetes['nateglinide'] = df_diabetes['nateglinide'].astype('category')\n",
    "df_diabetes['chlorpropamide'] = df_diabetes['chlorpropamide'].astype('category')\n",
    "df_diabetes['glimepiride'] = df_diabetes['glimepiride'].astype('category')\n",
    "df_diabetes['acetohexamide'] = df_diabetes['acetohexamide'].astype('category')\n",
    "df_diabetes['glipizide'] = df_diabetes['glipizide'].astype('category')\n",
    "df_diabetes['glyburide'] = df_diabetes['glyburide'].astype('category')\n",
    "df_diabetes['tolbutamide'] = df_diabetes['tolbutamide'].astype('category')\n",
    "df_diabetes['pioglitazone'] = df_diabetes['pioglitazone'].astype('category')\n",
    "df_diabetes['rosiglitazone'] = df_diabetes['rosiglitazone'].astype('category')\n",
    "df_diabetes['acarbose'] = df_diabetes['acarbose'].astype('category')\n",
    "df_diabetes['miglitol'] = df_diabetes['miglitol'].astype('category')\n",
    "df_diabetes['troglitazone'] = df_diabetes['troglitazone'].astype('category')\n",
    "df_diabetes['tolazamide'] = df_diabetes['tolazamide'].astype('category')\n",
    "df_diabetes['insulin'] = df_diabetes['insulin'].astype('category')\n",
    "df_diabetes['glyburide-metformin'] = df_diabetes['glyburide-metformin'].astype('category')\n",
    "df_diabetes['glipizide-metformin'] = df_diabetes['glipizide-metformin'].astype('category')\n",
    "df_diabetes['glimepiride-pioglitazone'] = df_diabetes['glimepiride-pioglitazone'].astype('category')\n",
    "df_diabetes['metformin-rosiglitazone'] = df_diabetes['metformin-rosiglitazone'].astype('category')\n",
    "df_diabetes['metformin-pioglitazone'] = df_diabetes['metformin-pioglitazone'].astype('category')\n",
    "df_diabetes['change'] = df_diabetes['change'].astype('category')\n",
    "df_diabetes['diabetesMed'] = df_diabetes['diabetesMed'].astype('category')"
   ]
  },
  {
   "cell_type": "code",
   "execution_count": 58,
   "metadata": {},
   "outputs": [
    {
     "name": "stdout",
     "output_type": "stream",
     "text": [
      "<class 'pandas.core.frame.DataFrame'>\n",
      "RangeIndex: 100766 entries, 0 to 100765\n",
      "Data columns (total 40 columns):\n",
      " #   Column                    Non-Null Count   Dtype   \n",
      "---  ------                    --------------   -----   \n",
      " 0   race                      100766 non-null  category\n",
      " 1   gender                    100766 non-null  category\n",
      " 2   age                       100766 non-null  category\n",
      " 3   admission_type_id         100766 non-null  category\n",
      " 4   discharge_disposition_id  100766 non-null  category\n",
      " 5   admission_source_id       100766 non-null  category\n",
      " 6   time_in_hospital          100766 non-null  int64   \n",
      " 7   num_lab_procedures        100766 non-null  int64   \n",
      " 8   num_procedures            100766 non-null  int64   \n",
      " 9   num_medications           100766 non-null  int64   \n",
      " 10  number_outpatient         100766 non-null  int64   \n",
      " 11  number_emergency          100766 non-null  int64   \n",
      " 12  number_inpatient          100766 non-null  int64   \n",
      " 13  number_diagnoses          100766 non-null  int64   \n",
      " 14  max_glu_serum             100766 non-null  category\n",
      " 15  A1Cresult                 100766 non-null  category\n",
      " 16  metformin                 100766 non-null  category\n",
      " 17  repaglinide               100766 non-null  category\n",
      " 18  nateglinide               100766 non-null  category\n",
      " 19  chlorpropamide            100766 non-null  category\n",
      " 20  glimepiride               100766 non-null  category\n",
      " 21  acetohexamide             100766 non-null  category\n",
      " 22  glipizide                 100766 non-null  category\n",
      " 23  glyburide                 100766 non-null  category\n",
      " 24  tolbutamide               100766 non-null  category\n",
      " 25  pioglitazone              100766 non-null  category\n",
      " 26  rosiglitazone             100766 non-null  category\n",
      " 27  acarbose                  100766 non-null  category\n",
      " 28  miglitol                  100766 non-null  category\n",
      " 29  troglitazone              100766 non-null  category\n",
      " 30  tolazamide                100766 non-null  category\n",
      " 31  insulin                   100766 non-null  category\n",
      " 32  glyburide-metformin       100766 non-null  category\n",
      " 33  glipizide-metformin       100766 non-null  category\n",
      " 34  glimepiride-pioglitazone  100766 non-null  category\n",
      " 35  metformin-rosiglitazone   100766 non-null  category\n",
      " 36  metformin-pioglitazone    100766 non-null  category\n",
      " 37  change                    100766 non-null  category\n",
      " 38  diabetesMed               100766 non-null  category\n",
      " 39  readmitted                100766 non-null  int64   \n",
      "dtypes: category(31), int64(9)\n",
      "memory usage: 9.9 MB\n"
     ]
    }
   ],
   "source": [
    "df_diabetes.info()"
   ]
  },
  {
   "cell_type": "code",
   "execution_count": 59,
   "metadata": {},
   "outputs": [],
   "source": [
    "df_diabetes['race'] = df_diabetes['race'].cat.codes\n",
    "df_diabetes['gender'] = df_diabetes['gender'].cat.codes\n",
    "df_diabetes['age'] = df_diabetes['age'].cat.codes\n",
    "df_diabetes['A1Cresult'] = df_diabetes['A1Cresult'].cat.codes\n",
    "df_diabetes['max_glu_serum'] = df_diabetes['max_glu_serum'].cat.codes\n",
    "df_diabetes['metformin'] = df_diabetes['metformin'].cat.codes\n",
    "df_diabetes['repaglinide'] = df_diabetes['repaglinide'].cat.codes\n",
    "df_diabetes['nateglinide'] = df_diabetes['nateglinide'].cat.codes\n",
    "df_diabetes['chlorpropamide'] = df_diabetes['chlorpropamide'].cat.codes\n",
    "df_diabetes['glimepiride'] = df_diabetes['glimepiride'].cat.codes\n",
    "df_diabetes['acetohexamide'] = df_diabetes['acetohexamide'].cat.codes\n",
    "df_diabetes['glipizide'] = df_diabetes['glipizide'].cat.codes\n",
    "df_diabetes['glyburide'] = df_diabetes['glyburide'].cat.codes\n",
    "df_diabetes['tolbutamide'] = df_diabetes['tolbutamide'].cat.codes\n",
    "df_diabetes['pioglitazone'] = df_diabetes['pioglitazone'].cat.codes\n",
    "df_diabetes['rosiglitazone'] = df_diabetes['rosiglitazone'].cat.codes\n",
    "df_diabetes['acarbose'] = df_diabetes['acarbose'].cat.codes\n",
    "df_diabetes['miglitol'] = df_diabetes['miglitol'].cat.codes\n",
    "df_diabetes['troglitazone'] = df_diabetes['troglitazone'].cat.codes\n",
    "df_diabetes['tolazamide'] = df_diabetes['tolazamide'].cat.codes\n",
    "df_diabetes['insulin'] = df_diabetes['insulin'].cat.codes\n",
    "df_diabetes['glyburide-metformin'] = df_diabetes['glyburide-metformin'].cat.codes\n",
    "df_diabetes['glipizide-metformin'] = df_diabetes['glipizide-metformin'].cat.codes\n",
    "df_diabetes['glimepiride-pioglitazone'] = df_diabetes['glimepiride-pioglitazone'].cat.codes\n",
    "df_diabetes['metformin-rosiglitazone'] = df_diabetes['metformin-rosiglitazone'].cat.codes\n",
    "df_diabetes['metformin-pioglitazone'] = df_diabetes['metformin-pioglitazone'].cat.codes\n",
    "df_diabetes['change'] = df_diabetes['change'].cat.codes\n",
    "df_diabetes['diabetesMed'] = df_diabetes['diabetesMed'].cat.codes"
   ]
  },
  {
   "cell_type": "code",
   "execution_count": 60,
   "metadata": {},
   "outputs": [],
   "source": [
    "df_diabetes_features = df_diabetes.drop('readmitted', axis = 1)"
   ]
  },
  {
   "cell_type": "code",
   "execution_count": 61,
   "metadata": {},
   "outputs": [],
   "source": [
    "df_diabetes_target = df_diabetes['readmitted']"
   ]
  },
  {
   "cell_type": "code",
   "execution_count": 62,
   "metadata": {},
   "outputs": [],
   "source": [
    "from sklearn.model_selection import train_test_split\n",
    "x_train, x_test, y_train, y_test = train_test_split(df_diabetes_features, df_diabetes_target, train_size = 0.7)"
   ]
  },
  {
   "cell_type": "code",
   "execution_count": 63,
   "metadata": {},
   "outputs": [],
   "source": [
    "from sklearn.linear_model import LogisticRegression\n",
    "lr = LogisticRegression()"
   ]
  },
  {
   "cell_type": "code",
   "execution_count": 64,
   "metadata": {},
   "outputs": [
    {
     "name": "stderr",
     "output_type": "stream",
     "text": [
      "C:\\Users\\athar\\Anaconda3\\lib\\site-packages\\sklearn\\linear_model\\_logistic.py:764: ConvergenceWarning: lbfgs failed to converge (status=1):\n",
      "STOP: TOTAL NO. of ITERATIONS REACHED LIMIT.\n",
      "\n",
      "Increase the number of iterations (max_iter) or scale the data as shown in:\n",
      "    https://scikit-learn.org/stable/modules/preprocessing.html\n",
      "Please also refer to the documentation for alternative solver options:\n",
      "    https://scikit-learn.org/stable/modules/linear_model.html#logistic-regression\n",
      "  extra_warning_msg=_LOGISTIC_SOLVER_CONVERGENCE_MSG)\n"
     ]
    },
    {
     "data": {
      "text/plain": [
       "LogisticRegression()"
      ]
     },
     "execution_count": 64,
     "metadata": {},
     "output_type": "execute_result"
    }
   ],
   "source": [
    "lr.fit(x_train, y_train)"
   ]
  },
  {
   "cell_type": "code",
   "execution_count": 65,
   "metadata": {},
   "outputs": [
    {
     "data": {
      "text/plain": [
       "0.6178121810139503"
      ]
     },
     "execution_count": 65,
     "metadata": {},
     "output_type": "execute_result"
    }
   ],
   "source": [
    "lr.score(x_train, y_train)"
   ]
  },
  {
   "cell_type": "code",
   "execution_count": 66,
   "metadata": {},
   "outputs": [],
   "source": [
    "y_pred = lr.predict(x_test)"
   ]
  },
  {
   "cell_type": "code",
   "execution_count": 67,
   "metadata": {},
   "outputs": [
    {
     "data": {
      "text/plain": [
       "0.6169368177307311"
      ]
     },
     "execution_count": 67,
     "metadata": {},
     "output_type": "execute_result"
    }
   ],
   "source": [
    "from sklearn.metrics import accuracy_score\n",
    "accuracy_score(y_test, y_pred)"
   ]
  },
  {
   "cell_type": "code",
   "execution_count": 68,
   "metadata": {},
   "outputs": [
    {
     "name": "stdout",
     "output_type": "stream",
     "text": [
      "0.9999007598956561\n"
     ]
    },
    {
     "data": {
      "text/plain": [
       "0.5591465431690373"
      ]
     },
     "execution_count": 68,
     "metadata": {},
     "output_type": "execute_result"
    }
   ],
   "source": [
    "from sklearn.tree import DecisionTreeClassifier\n",
    "dt = DecisionTreeClassifier()\n",
    "dt.fit(x_train, y_train)\n",
    "print(dt.score(x_train, y_train))\n",
    "accuracy_score(dt.predict(x_test), y_test)"
   ]
  },
  {
   "cell_type": "code",
   "execution_count": 69,
   "metadata": {},
   "outputs": [
    {
     "name": "stdout",
     "output_type": "stream",
     "text": [
      "0.9999007598956561\n",
      "0.6307641415812107\n"
     ]
    }
   ],
   "source": [
    "from sklearn.ensemble import RandomForestClassifier\n",
    "import pickle\n",
    "rf = RandomForestClassifier(n_estimators=200, criterion = 'entropy', max_depth = 50)\n",
    "rf.fit(x_train, y_train)\n",
    "print(rf.score(x_train, y_train))\n",
    "print(accuracy_score(rf.predict(x_test), y_test))\n",
    "pkl_filename = 'model.pkl'\n",
    "with open(pkl_filename, 'wb') as file:\n",
    "    pickle.dump(rf, open(pkl_filename, 'wb'))"
   ]
  },
  {
   "cell_type": "code",
   "execution_count": 70,
   "metadata": {},
   "outputs": [],
   "source": [
    "from sklearn.ensemble import BaggingClassifier\n",
    "from sklearn.model_selection import cross_val_score\n",
    "bagging_clf = BaggingClassifier(rf, \n",
    "                                max_samples=0.4, max_features=10, random_state=0)\n",
    "bagging_scores = cross_val_score(bagging_clf, x_train, y_train, cv=10, n_jobs=-1)"
   ]
  },
  {
   "cell_type": "code",
   "execution_count": 71,
   "metadata": {},
   "outputs": [
    {
     "name": "stdout",
     "output_type": "stream",
     "text": [
      "[0.60944145 0.61341083 0.60816558 0.61015027 0.60192798 0.60306209\n",
      " 0.61973628 0.61321424 0.60612505 0.61534099]\n"
     ]
    }
   ],
   "source": [
    "print(bagging_scores)"
   ]
  },
  {
   "cell_type": "code",
   "execution_count": 72,
   "metadata": {},
   "outputs": [
    {
     "name": "stdout",
     "output_type": "stream",
     "text": [
      "Mean: 0.633, std: (+/-) 0.005 [Ada Boost]\n",
      "Mean: 0.638, std: (+/-) 0.005 [Grad Boost]\n",
      "Mean: nan, std: (+/-) nan [XG Boost]\n"
     ]
    },
    {
     "name": "stderr",
     "output_type": "stream",
     "text": [
      "C:\\Users\\athar\\Anaconda3\\lib\\site-packages\\xgboost\\sklearn.py:888: UserWarning: The use of label encoder in XGBClassifier is deprecated and will be removed in a future release. To remove this warning, do the following: 1) Pass option use_label_encoder=False when constructing XGBClassifier object; and 2) Encode your labels (y) as integers starting with 0, i.e. 0, 1, 2, ..., [num_class - 1].\n",
      "  warnings.warn(label_encoder_deprecation_msg, UserWarning)\n",
      "C:\\Users\\athar\\Anaconda3\\lib\\site-packages\\sklearn\\model_selection\\_validation.py:552: FitFailedWarning: Estimator fit failed. The score on this train-test partition for these parameters will be set to nan. Details: \n",
      "Traceback (most recent call last):\n",
      "  File \"C:\\Users\\athar\\Anaconda3\\lib\\site-packages\\sklearn\\model_selection\\_validation.py\", line 531, in _fit_and_score\n",
      "    estimator.fit(X_train, y_train, **fit_params)\n",
      "  File \"C:\\Users\\athar\\Anaconda3\\lib\\site-packages\\xgboost\\core.py\", line 422, in inner_f\n",
      "    return f(**kwargs)\n",
      "  File \"C:\\Users\\athar\\Anaconda3\\lib\\site-packages\\xgboost\\sklearn.py\", line 907, in fit\n",
      "    eval_group=None, label_transform=label_transform)\n",
      "  File \"C:\\Users\\athar\\Anaconda3\\lib\\site-packages\\xgboost\\sklearn.py\", line 267, in _wrap_evaluation_matrices\n",
      "    missing=self.missing, nthread=self.n_jobs)\n",
      "  File \"C:\\Users\\athar\\Anaconda3\\lib\\site-packages\\xgboost\\core.py\", line 505, in __init__\n",
      "    enable_categorical=enable_categorical)\n",
      "  File \"C:\\Users\\athar\\Anaconda3\\lib\\site-packages\\xgboost\\data.py\", line 540, in dispatch_data_backend\n",
      "    feature_names, feature_types)\n",
      "  File \"C:\\Users\\athar\\Anaconda3\\lib\\site-packages\\xgboost\\data.py\", line 243, in _from_pandas_df\n",
      "    data, enable_categorical, feature_names, feature_types)\n",
      "  File \"C:\\Users\\athar\\Anaconda3\\lib\\site-packages\\xgboost\\data.py\", line 207, in _transform_pandas_df\n",
      "    raise ValueError(msg + ', '.join(bad_fields))\n",
      "ValueError: DataFrame.dtypes for data must be int, float, bool or categorical.  When\n",
      "                categorical type is supplied, DMatrix parameter\n",
      "                `enable_categorical` must be set to `True`.admission_type_id, discharge_disposition_id, admission_source_id\n",
      "\n",
      "  FitFailedWarning)\n",
      "C:\\Users\\athar\\Anaconda3\\lib\\site-packages\\xgboost\\sklearn.py:888: UserWarning: The use of label encoder in XGBClassifier is deprecated and will be removed in a future release. To remove this warning, do the following: 1) Pass option use_label_encoder=False when constructing XGBClassifier object; and 2) Encode your labels (y) as integers starting with 0, i.e. 0, 1, 2, ..., [num_class - 1].\n",
      "  warnings.warn(label_encoder_deprecation_msg, UserWarning)\n",
      "C:\\Users\\athar\\Anaconda3\\lib\\site-packages\\sklearn\\model_selection\\_validation.py:552: FitFailedWarning: Estimator fit failed. The score on this train-test partition for these parameters will be set to nan. Details: \n",
      "Traceback (most recent call last):\n",
      "  File \"C:\\Users\\athar\\Anaconda3\\lib\\site-packages\\sklearn\\model_selection\\_validation.py\", line 531, in _fit_and_score\n",
      "    estimator.fit(X_train, y_train, **fit_params)\n",
      "  File \"C:\\Users\\athar\\Anaconda3\\lib\\site-packages\\mlxtend\\classifier\\ensemble_vote.py\", line 174, in fit\n",
      "    clf.fit(X, self.le_.transform(y))\n",
      "  File \"C:\\Users\\athar\\Anaconda3\\lib\\site-packages\\xgboost\\core.py\", line 422, in inner_f\n",
      "    return f(**kwargs)\n",
      "  File \"C:\\Users\\athar\\Anaconda3\\lib\\site-packages\\xgboost\\sklearn.py\", line 907, in fit\n",
      "    eval_group=None, label_transform=label_transform)\n",
      "  File \"C:\\Users\\athar\\Anaconda3\\lib\\site-packages\\xgboost\\sklearn.py\", line 267, in _wrap_evaluation_matrices\n",
      "    missing=self.missing, nthread=self.n_jobs)\n",
      "  File \"C:\\Users\\athar\\Anaconda3\\lib\\site-packages\\xgboost\\core.py\", line 505, in __init__\n",
      "    enable_categorical=enable_categorical)\n",
      "  File \"C:\\Users\\athar\\Anaconda3\\lib\\site-packages\\xgboost\\data.py\", line 540, in dispatch_data_backend\n",
      "    feature_names, feature_types)\n",
      "  File \"C:\\Users\\athar\\Anaconda3\\lib\\site-packages\\xgboost\\data.py\", line 243, in _from_pandas_df\n",
      "    data, enable_categorical, feature_names, feature_types)\n",
      "  File \"C:\\Users\\athar\\Anaconda3\\lib\\site-packages\\xgboost\\data.py\", line 207, in _transform_pandas_df\n",
      "    raise ValueError(msg + ', '.join(bad_fields))\n",
      "ValueError: DataFrame.dtypes for data must be int, float, bool or categorical.  When\n",
      "                categorical type is supplied, DMatrix parameter\n",
      "                `enable_categorical` must be set to `True`.admission_type_id, discharge_disposition_id, admission_source_id\n",
      "\n",
      "  FitFailedWarning)\n",
      "C:\\Users\\athar\\Anaconda3\\lib\\site-packages\\xgboost\\sklearn.py:888: UserWarning: The use of label encoder in XGBClassifier is deprecated and will be removed in a future release. To remove this warning, do the following: 1) Pass option use_label_encoder=False when constructing XGBClassifier object; and 2) Encode your labels (y) as integers starting with 0, i.e. 0, 1, 2, ..., [num_class - 1].\n",
      "  warnings.warn(label_encoder_deprecation_msg, UserWarning)\n",
      "C:\\Users\\athar\\Anaconda3\\lib\\site-packages\\sklearn\\model_selection\\_validation.py:552: FitFailedWarning: Estimator fit failed. The score on this train-test partition for these parameters will be set to nan. Details: \n",
      "Traceback (most recent call last):\n",
      "  File \"C:\\Users\\athar\\Anaconda3\\lib\\site-packages\\sklearn\\model_selection\\_validation.py\", line 531, in _fit_and_score\n",
      "    estimator.fit(X_train, y_train, **fit_params)\n",
      "  File \"C:\\Users\\athar\\Anaconda3\\lib\\site-packages\\mlxtend\\classifier\\ensemble_vote.py\", line 174, in fit\n",
      "    clf.fit(X, self.le_.transform(y))\n",
      "  File \"C:\\Users\\athar\\Anaconda3\\lib\\site-packages\\xgboost\\core.py\", line 422, in inner_f\n",
      "    return f(**kwargs)\n",
      "  File \"C:\\Users\\athar\\Anaconda3\\lib\\site-packages\\xgboost\\sklearn.py\", line 907, in fit\n",
      "    eval_group=None, label_transform=label_transform)\n",
      "  File \"C:\\Users\\athar\\Anaconda3\\lib\\site-packages\\xgboost\\sklearn.py\", line 267, in _wrap_evaluation_matrices\n",
      "    missing=self.missing, nthread=self.n_jobs)\n",
      "  File \"C:\\Users\\athar\\Anaconda3\\lib\\site-packages\\xgboost\\core.py\", line 505, in __init__\n",
      "    enable_categorical=enable_categorical)\n",
      "  File \"C:\\Users\\athar\\Anaconda3\\lib\\site-packages\\xgboost\\data.py\", line 540, in dispatch_data_backend\n",
      "    feature_names, feature_types)\n",
      "  File \"C:\\Users\\athar\\Anaconda3\\lib\\site-packages\\xgboost\\data.py\", line 243, in _from_pandas_df\n",
      "    data, enable_categorical, feature_names, feature_types)\n",
      "  File \"C:\\Users\\athar\\Anaconda3\\lib\\site-packages\\xgboost\\data.py\", line 207, in _transform_pandas_df\n",
      "    raise ValueError(msg + ', '.join(bad_fields))\n",
      "ValueError: DataFrame.dtypes for data must be int, float, bool or categorical.  When\n",
      "                categorical type is supplied, DMatrix parameter\n",
      "                `enable_categorical` must be set to `True`.admission_type_id, discharge_disposition_id, admission_source_id\n",
      "\n",
      "  FitFailedWarning)\n",
      "C:\\Users\\athar\\Anaconda3\\lib\\site-packages\\xgboost\\sklearn.py:888: UserWarning: The use of label encoder in XGBClassifier is deprecated and will be removed in a future release. To remove this warning, do the following: 1) Pass option use_label_encoder=False when constructing XGBClassifier object; and 2) Encode your labels (y) as integers starting with 0, i.e. 0, 1, 2, ..., [num_class - 1].\n",
      "  warnings.warn(label_encoder_deprecation_msg, UserWarning)\n",
      "C:\\Users\\athar\\Anaconda3\\lib\\site-packages\\sklearn\\model_selection\\_validation.py:552: FitFailedWarning: Estimator fit failed. The score on this train-test partition for these parameters will be set to nan. Details: \n",
      "Traceback (most recent call last):\n",
      "  File \"C:\\Users\\athar\\Anaconda3\\lib\\site-packages\\sklearn\\model_selection\\_validation.py\", line 531, in _fit_and_score\n",
      "    estimator.fit(X_train, y_train, **fit_params)\n",
      "  File \"C:\\Users\\athar\\Anaconda3\\lib\\site-packages\\mlxtend\\classifier\\ensemble_vote.py\", line 174, in fit\n",
      "    clf.fit(X, self.le_.transform(y))\n",
      "  File \"C:\\Users\\athar\\Anaconda3\\lib\\site-packages\\xgboost\\core.py\", line 422, in inner_f\n",
      "    return f(**kwargs)\n",
      "  File \"C:\\Users\\athar\\Anaconda3\\lib\\site-packages\\xgboost\\sklearn.py\", line 907, in fit\n",
      "    eval_group=None, label_transform=label_transform)\n",
      "  File \"C:\\Users\\athar\\Anaconda3\\lib\\site-packages\\xgboost\\sklearn.py\", line 267, in _wrap_evaluation_matrices\n",
      "    missing=self.missing, nthread=self.n_jobs)\n",
      "  File \"C:\\Users\\athar\\Anaconda3\\lib\\site-packages\\xgboost\\core.py\", line 505, in __init__\n",
      "    enable_categorical=enable_categorical)\n",
      "  File \"C:\\Users\\athar\\Anaconda3\\lib\\site-packages\\xgboost\\data.py\", line 540, in dispatch_data_backend\n",
      "    feature_names, feature_types)\n",
      "  File \"C:\\Users\\athar\\Anaconda3\\lib\\site-packages\\xgboost\\data.py\", line 243, in _from_pandas_df\n",
      "    data, enable_categorical, feature_names, feature_types)\n",
      "  File \"C:\\Users\\athar\\Anaconda3\\lib\\site-packages\\xgboost\\data.py\", line 207, in _transform_pandas_df\n",
      "    raise ValueError(msg + ', '.join(bad_fields))\n",
      "ValueError: DataFrame.dtypes for data must be int, float, bool or categorical.  When\n",
      "                categorical type is supplied, DMatrix parameter\n",
      "                `enable_categorical` must be set to `True`.admission_type_id, discharge_disposition_id, admission_source_id\n",
      "\n",
      "  FitFailedWarning)\n",
      "C:\\Users\\athar\\Anaconda3\\lib\\site-packages\\xgboost\\sklearn.py:888: UserWarning: The use of label encoder in XGBClassifier is deprecated and will be removed in a future release. To remove this warning, do the following: 1) Pass option use_label_encoder=False when constructing XGBClassifier object; and 2) Encode your labels (y) as integers starting with 0, i.e. 0, 1, 2, ..., [num_class - 1].\n",
      "  warnings.warn(label_encoder_deprecation_msg, UserWarning)\n",
      "C:\\Users\\athar\\Anaconda3\\lib\\site-packages\\sklearn\\model_selection\\_validation.py:552: FitFailedWarning: Estimator fit failed. The score on this train-test partition for these parameters will be set to nan. Details: \n",
      "Traceback (most recent call last):\n",
      "  File \"C:\\Users\\athar\\Anaconda3\\lib\\site-packages\\sklearn\\model_selection\\_validation.py\", line 531, in _fit_and_score\n",
      "    estimator.fit(X_train, y_train, **fit_params)\n",
      "  File \"C:\\Users\\athar\\Anaconda3\\lib\\site-packages\\mlxtend\\classifier\\ensemble_vote.py\", line 174, in fit\n",
      "    clf.fit(X, self.le_.transform(y))\n",
      "  File \"C:\\Users\\athar\\Anaconda3\\lib\\site-packages\\xgboost\\core.py\", line 422, in inner_f\n",
      "    return f(**kwargs)\n",
      "  File \"C:\\Users\\athar\\Anaconda3\\lib\\site-packages\\xgboost\\sklearn.py\", line 907, in fit\n",
      "    eval_group=None, label_transform=label_transform)\n",
      "  File \"C:\\Users\\athar\\Anaconda3\\lib\\site-packages\\xgboost\\sklearn.py\", line 267, in _wrap_evaluation_matrices\n",
      "    missing=self.missing, nthread=self.n_jobs)\n",
      "  File \"C:\\Users\\athar\\Anaconda3\\lib\\site-packages\\xgboost\\core.py\", line 505, in __init__\n",
      "    enable_categorical=enable_categorical)\n",
      "  File \"C:\\Users\\athar\\Anaconda3\\lib\\site-packages\\xgboost\\data.py\", line 540, in dispatch_data_backend\n",
      "    feature_names, feature_types)\n",
      "  File \"C:\\Users\\athar\\Anaconda3\\lib\\site-packages\\xgboost\\data.py\", line 243, in _from_pandas_df\n",
      "    data, enable_categorical, feature_names, feature_types)\n",
      "  File \"C:\\Users\\athar\\Anaconda3\\lib\\site-packages\\xgboost\\data.py\", line 207, in _transform_pandas_df\n",
      "    raise ValueError(msg + ', '.join(bad_fields))\n",
      "ValueError: DataFrame.dtypes for data must be int, float, bool or categorical.  When\n",
      "                categorical type is supplied, DMatrix parameter\n",
      "                `enable_categorical` must be set to `True`.admission_type_id, discharge_disposition_id, admission_source_id\n",
      "\n",
      "  FitFailedWarning)\n",
      "C:\\Users\\athar\\Anaconda3\\lib\\site-packages\\xgboost\\sklearn.py:888: UserWarning: The use of label encoder in XGBClassifier is deprecated and will be removed in a future release. To remove this warning, do the following: 1) Pass option use_label_encoder=False when constructing XGBClassifier object; and 2) Encode your labels (y) as integers starting with 0, i.e. 0, 1, 2, ..., [num_class - 1].\n",
      "  warnings.warn(label_encoder_deprecation_msg, UserWarning)\n",
      "C:\\Users\\athar\\Anaconda3\\lib\\site-packages\\sklearn\\model_selection\\_validation.py:552: FitFailedWarning: Estimator fit failed. The score on this train-test partition for these parameters will be set to nan. Details: \n",
      "Traceback (most recent call last):\n",
      "  File \"C:\\Users\\athar\\Anaconda3\\lib\\site-packages\\sklearn\\model_selection\\_validation.py\", line 531, in _fit_and_score\n",
      "    estimator.fit(X_train, y_train, **fit_params)\n",
      "  File \"C:\\Users\\athar\\Anaconda3\\lib\\site-packages\\mlxtend\\classifier\\ensemble_vote.py\", line 174, in fit\n",
      "    clf.fit(X, self.le_.transform(y))\n",
      "  File \"C:\\Users\\athar\\Anaconda3\\lib\\site-packages\\xgboost\\core.py\", line 422, in inner_f\n",
      "    return f(**kwargs)\n",
      "  File \"C:\\Users\\athar\\Anaconda3\\lib\\site-packages\\xgboost\\sklearn.py\", line 907, in fit\n",
      "    eval_group=None, label_transform=label_transform)\n",
      "  File \"C:\\Users\\athar\\Anaconda3\\lib\\site-packages\\xgboost\\sklearn.py\", line 267, in _wrap_evaluation_matrices\n",
      "    missing=self.missing, nthread=self.n_jobs)\n",
      "  File \"C:\\Users\\athar\\Anaconda3\\lib\\site-packages\\xgboost\\core.py\", line 505, in __init__\n",
      "    enable_categorical=enable_categorical)\n",
      "  File \"C:\\Users\\athar\\Anaconda3\\lib\\site-packages\\xgboost\\data.py\", line 540, in dispatch_data_backend\n",
      "    feature_names, feature_types)\n",
      "  File \"C:\\Users\\athar\\Anaconda3\\lib\\site-packages\\xgboost\\data.py\", line 243, in _from_pandas_df\n",
      "    data, enable_categorical, feature_names, feature_types)\n",
      "  File \"C:\\Users\\athar\\Anaconda3\\lib\\site-packages\\xgboost\\data.py\", line 207, in _transform_pandas_df\n",
      "    raise ValueError(msg + ', '.join(bad_fields))\n",
      "ValueError: DataFrame.dtypes for data must be int, float, bool or categorical.  When\n",
      "                categorical type is supplied, DMatrix parameter\n",
      "                `enable_categorical` must be set to `True`.admission_type_id, discharge_disposition_id, admission_source_id\n",
      "\n",
      "  FitFailedWarning)\n",
      "C:\\Users\\athar\\Anaconda3\\lib\\site-packages\\xgboost\\sklearn.py:888: UserWarning: The use of label encoder in XGBClassifier is deprecated and will be removed in a future release. To remove this warning, do the following: 1) Pass option use_label_encoder=False when constructing XGBClassifier object; and 2) Encode your labels (y) as integers starting with 0, i.e. 0, 1, 2, ..., [num_class - 1].\n",
      "  warnings.warn(label_encoder_deprecation_msg, UserWarning)\n",
      "C:\\Users\\athar\\Anaconda3\\lib\\site-packages\\sklearn\\model_selection\\_validation.py:552: FitFailedWarning: Estimator fit failed. The score on this train-test partition for these parameters will be set to nan. Details: \n",
      "Traceback (most recent call last):\n",
      "  File \"C:\\Users\\athar\\Anaconda3\\lib\\site-packages\\sklearn\\model_selection\\_validation.py\", line 531, in _fit_and_score\n",
      "    estimator.fit(X_train, y_train, **fit_params)\n",
      "  File \"C:\\Users\\athar\\Anaconda3\\lib\\site-packages\\mlxtend\\classifier\\ensemble_vote.py\", line 174, in fit\n",
      "    clf.fit(X, self.le_.transform(y))\n",
      "  File \"C:\\Users\\athar\\Anaconda3\\lib\\site-packages\\xgboost\\core.py\", line 422, in inner_f\n",
      "    return f(**kwargs)\n",
      "  File \"C:\\Users\\athar\\Anaconda3\\lib\\site-packages\\xgboost\\sklearn.py\", line 907, in fit\n",
      "    eval_group=None, label_transform=label_transform)\n",
      "  File \"C:\\Users\\athar\\Anaconda3\\lib\\site-packages\\xgboost\\sklearn.py\", line 267, in _wrap_evaluation_matrices\n",
      "    missing=self.missing, nthread=self.n_jobs)\n",
      "  File \"C:\\Users\\athar\\Anaconda3\\lib\\site-packages\\xgboost\\core.py\", line 505, in __init__\n",
      "    enable_categorical=enable_categorical)\n",
      "  File \"C:\\Users\\athar\\Anaconda3\\lib\\site-packages\\xgboost\\data.py\", line 540, in dispatch_data_backend\n",
      "    feature_names, feature_types)\n",
      "  File \"C:\\Users\\athar\\Anaconda3\\lib\\site-packages\\xgboost\\data.py\", line 243, in _from_pandas_df\n",
      "    data, enable_categorical, feature_names, feature_types)\n",
      "  File \"C:\\Users\\athar\\Anaconda3\\lib\\site-packages\\xgboost\\data.py\", line 207, in _transform_pandas_df\n",
      "    raise ValueError(msg + ', '.join(bad_fields))\n",
      "ValueError: DataFrame.dtypes for data must be int, float, bool or categorical.  When\n",
      "                categorical type is supplied, DMatrix parameter\n",
      "                `enable_categorical` must be set to `True`.admission_type_id, discharge_disposition_id, admission_source_id\n",
      "\n",
      "  FitFailedWarning)\n",
      "C:\\Users\\athar\\Anaconda3\\lib\\site-packages\\xgboost\\sklearn.py:888: UserWarning: The use of label encoder in XGBClassifier is deprecated and will be removed in a future release. To remove this warning, do the following: 1) Pass option use_label_encoder=False when constructing XGBClassifier object; and 2) Encode your labels (y) as integers starting with 0, i.e. 0, 1, 2, ..., [num_class - 1].\n",
      "  warnings.warn(label_encoder_deprecation_msg, UserWarning)\n",
      "C:\\Users\\athar\\Anaconda3\\lib\\site-packages\\sklearn\\model_selection\\_validation.py:552: FitFailedWarning: Estimator fit failed. The score on this train-test partition for these parameters will be set to nan. Details: \n",
      "Traceback (most recent call last):\n",
      "  File \"C:\\Users\\athar\\Anaconda3\\lib\\site-packages\\sklearn\\model_selection\\_validation.py\", line 531, in _fit_and_score\n",
      "    estimator.fit(X_train, y_train, **fit_params)\n",
      "  File \"C:\\Users\\athar\\Anaconda3\\lib\\site-packages\\mlxtend\\classifier\\ensemble_vote.py\", line 174, in fit\n",
      "    clf.fit(X, self.le_.transform(y))\n",
      "  File \"C:\\Users\\athar\\Anaconda3\\lib\\site-packages\\xgboost\\core.py\", line 422, in inner_f\n",
      "    return f(**kwargs)\n",
      "  File \"C:\\Users\\athar\\Anaconda3\\lib\\site-packages\\xgboost\\sklearn.py\", line 907, in fit\n",
      "    eval_group=None, label_transform=label_transform)\n",
      "  File \"C:\\Users\\athar\\Anaconda3\\lib\\site-packages\\xgboost\\sklearn.py\", line 267, in _wrap_evaluation_matrices\n",
      "    missing=self.missing, nthread=self.n_jobs)\n",
      "  File \"C:\\Users\\athar\\Anaconda3\\lib\\site-packages\\xgboost\\core.py\", line 505, in __init__\n",
      "    enable_categorical=enable_categorical)\n",
      "  File \"C:\\Users\\athar\\Anaconda3\\lib\\site-packages\\xgboost\\data.py\", line 540, in dispatch_data_backend\n",
      "    feature_names, feature_types)\n",
      "  File \"C:\\Users\\athar\\Anaconda3\\lib\\site-packages\\xgboost\\data.py\", line 243, in _from_pandas_df\n",
      "    data, enable_categorical, feature_names, feature_types)\n",
      "  File \"C:\\Users\\athar\\Anaconda3\\lib\\site-packages\\xgboost\\data.py\", line 207, in _transform_pandas_df\n",
      "    raise ValueError(msg + ', '.join(bad_fields))\n",
      "ValueError: DataFrame.dtypes for data must be int, float, bool or categorical.  When\n",
      "                categorical type is supplied, DMatrix parameter\n",
      "                `enable_categorical` must be set to `True`.admission_type_id, discharge_disposition_id, admission_source_id\n",
      "\n",
      "  FitFailedWarning)\n",
      "C:\\Users\\athar\\Anaconda3\\lib\\site-packages\\xgboost\\sklearn.py:888: UserWarning: The use of label encoder in XGBClassifier is deprecated and will be removed in a future release. To remove this warning, do the following: 1) Pass option use_label_encoder=False when constructing XGBClassifier object; and 2) Encode your labels (y) as integers starting with 0, i.e. 0, 1, 2, ..., [num_class - 1].\n",
      "  warnings.warn(label_encoder_deprecation_msg, UserWarning)\n",
      "C:\\Users\\athar\\Anaconda3\\lib\\site-packages\\sklearn\\model_selection\\_validation.py:552: FitFailedWarning: Estimator fit failed. The score on this train-test partition for these parameters will be set to nan. Details: \n",
      "Traceback (most recent call last):\n",
      "  File \"C:\\Users\\athar\\Anaconda3\\lib\\site-packages\\sklearn\\model_selection\\_validation.py\", line 531, in _fit_and_score\n",
      "    estimator.fit(X_train, y_train, **fit_params)\n",
      "  File \"C:\\Users\\athar\\Anaconda3\\lib\\site-packages\\mlxtend\\classifier\\ensemble_vote.py\", line 174, in fit\n",
      "    clf.fit(X, self.le_.transform(y))\n",
      "  File \"C:\\Users\\athar\\Anaconda3\\lib\\site-packages\\xgboost\\core.py\", line 422, in inner_f\n",
      "    return f(**kwargs)\n",
      "  File \"C:\\Users\\athar\\Anaconda3\\lib\\site-packages\\xgboost\\sklearn.py\", line 907, in fit\n",
      "    eval_group=None, label_transform=label_transform)\n",
      "  File \"C:\\Users\\athar\\Anaconda3\\lib\\site-packages\\xgboost\\sklearn.py\", line 267, in _wrap_evaluation_matrices\n",
      "    missing=self.missing, nthread=self.n_jobs)\n",
      "  File \"C:\\Users\\athar\\Anaconda3\\lib\\site-packages\\xgboost\\core.py\", line 505, in __init__\n",
      "    enable_categorical=enable_categorical)\n",
      "  File \"C:\\Users\\athar\\Anaconda3\\lib\\site-packages\\xgboost\\data.py\", line 540, in dispatch_data_backend\n",
      "    feature_names, feature_types)\n",
      "  File \"C:\\Users\\athar\\Anaconda3\\lib\\site-packages\\xgboost\\data.py\", line 243, in _from_pandas_df\n",
      "    data, enable_categorical, feature_names, feature_types)\n",
      "  File \"C:\\Users\\athar\\Anaconda3\\lib\\site-packages\\xgboost\\data.py\", line 207, in _transform_pandas_df\n",
      "    raise ValueError(msg + ', '.join(bad_fields))\n",
      "ValueError: DataFrame.dtypes for data must be int, float, bool or categorical.  When\n",
      "                categorical type is supplied, DMatrix parameter\n",
      "                `enable_categorical` must be set to `True`.admission_type_id, discharge_disposition_id, admission_source_id\n",
      "\n",
      "  FitFailedWarning)\n",
      "C:\\Users\\athar\\Anaconda3\\lib\\site-packages\\xgboost\\sklearn.py:888: UserWarning: The use of label encoder in XGBClassifier is deprecated and will be removed in a future release. To remove this warning, do the following: 1) Pass option use_label_encoder=False when constructing XGBClassifier object; and 2) Encode your labels (y) as integers starting with 0, i.e. 0, 1, 2, ..., [num_class - 1].\n",
      "  warnings.warn(label_encoder_deprecation_msg, UserWarning)\n",
      "C:\\Users\\athar\\Anaconda3\\lib\\site-packages\\sklearn\\model_selection\\_validation.py:552: FitFailedWarning: Estimator fit failed. The score on this train-test partition for these parameters will be set to nan. Details: \n",
      "Traceback (most recent call last):\n",
      "  File \"C:\\Users\\athar\\Anaconda3\\lib\\site-packages\\sklearn\\model_selection\\_validation.py\", line 531, in _fit_and_score\n",
      "    estimator.fit(X_train, y_train, **fit_params)\n",
      "  File \"C:\\Users\\athar\\Anaconda3\\lib\\site-packages\\mlxtend\\classifier\\ensemble_vote.py\", line 174, in fit\n",
      "    clf.fit(X, self.le_.transform(y))\n",
      "  File \"C:\\Users\\athar\\Anaconda3\\lib\\site-packages\\xgboost\\core.py\", line 422, in inner_f\n",
      "    return f(**kwargs)\n",
      "  File \"C:\\Users\\athar\\Anaconda3\\lib\\site-packages\\xgboost\\sklearn.py\", line 907, in fit\n",
      "    eval_group=None, label_transform=label_transform)\n",
      "  File \"C:\\Users\\athar\\Anaconda3\\lib\\site-packages\\xgboost\\sklearn.py\", line 267, in _wrap_evaluation_matrices\n",
      "    missing=self.missing, nthread=self.n_jobs)\n",
      "  File \"C:\\Users\\athar\\Anaconda3\\lib\\site-packages\\xgboost\\core.py\", line 505, in __init__\n",
      "    enable_categorical=enable_categorical)\n",
      "  File \"C:\\Users\\athar\\Anaconda3\\lib\\site-packages\\xgboost\\data.py\", line 540, in dispatch_data_backend\n",
      "    feature_names, feature_types)\n",
      "  File \"C:\\Users\\athar\\Anaconda3\\lib\\site-packages\\xgboost\\data.py\", line 243, in _from_pandas_df\n",
      "    data, enable_categorical, feature_names, feature_types)\n",
      "  File \"C:\\Users\\athar\\Anaconda3\\lib\\site-packages\\xgboost\\data.py\", line 207, in _transform_pandas_df\n",
      "    raise ValueError(msg + ', '.join(bad_fields))\n",
      "ValueError: DataFrame.dtypes for data must be int, float, bool or categorical.  When\n",
      "                categorical type is supplied, DMatrix parameter\n",
      "                `enable_categorical` must be set to `True`.admission_type_id, discharge_disposition_id, admission_source_id\n",
      "\n",
      "  FitFailedWarning)\n"
     ]
    },
    {
     "name": "stdout",
     "output_type": "stream",
     "text": [
      "Mean: nan, std: (+/-) nan [Ensemble]\n"
     ]
    },
    {
     "name": "stderr",
     "output_type": "stream",
     "text": [
      "C:\\Users\\athar\\Anaconda3\\lib\\site-packages\\xgboost\\sklearn.py:888: UserWarning: The use of label encoder in XGBClassifier is deprecated and will be removed in a future release. To remove this warning, do the following: 1) Pass option use_label_encoder=False when constructing XGBClassifier object; and 2) Encode your labels (y) as integers starting with 0, i.e. 0, 1, 2, ..., [num_class - 1].\n",
      "  warnings.warn(label_encoder_deprecation_msg, UserWarning)\n",
      "C:\\Users\\athar\\Anaconda3\\lib\\site-packages\\sklearn\\model_selection\\_validation.py:552: FitFailedWarning: Estimator fit failed. The score on this train-test partition for these parameters will be set to nan. Details: \n",
      "Traceback (most recent call last):\n",
      "  File \"C:\\Users\\athar\\Anaconda3\\lib\\site-packages\\sklearn\\model_selection\\_validation.py\", line 531, in _fit_and_score\n",
      "    estimator.fit(X_train, y_train, **fit_params)\n",
      "  File \"C:\\Users\\athar\\Anaconda3\\lib\\site-packages\\mlxtend\\classifier\\ensemble_vote.py\", line 174, in fit\n",
      "    clf.fit(X, self.le_.transform(y))\n",
      "  File \"C:\\Users\\athar\\Anaconda3\\lib\\site-packages\\xgboost\\core.py\", line 422, in inner_f\n",
      "    return f(**kwargs)\n",
      "  File \"C:\\Users\\athar\\Anaconda3\\lib\\site-packages\\xgboost\\sklearn.py\", line 907, in fit\n",
      "    eval_group=None, label_transform=label_transform)\n",
      "  File \"C:\\Users\\athar\\Anaconda3\\lib\\site-packages\\xgboost\\sklearn.py\", line 267, in _wrap_evaluation_matrices\n",
      "    missing=self.missing, nthread=self.n_jobs)\n",
      "  File \"C:\\Users\\athar\\Anaconda3\\lib\\site-packages\\xgboost\\core.py\", line 505, in __init__\n",
      "    enable_categorical=enable_categorical)\n",
      "  File \"C:\\Users\\athar\\Anaconda3\\lib\\site-packages\\xgboost\\data.py\", line 540, in dispatch_data_backend\n",
      "    feature_names, feature_types)\n",
      "  File \"C:\\Users\\athar\\Anaconda3\\lib\\site-packages\\xgboost\\data.py\", line 243, in _from_pandas_df\n",
      "    data, enable_categorical, feature_names, feature_types)\n",
      "  File \"C:\\Users\\athar\\Anaconda3\\lib\\site-packages\\xgboost\\data.py\", line 207, in _transform_pandas_df\n",
      "    raise ValueError(msg + ', '.join(bad_fields))\n",
      "ValueError: DataFrame.dtypes for data must be int, float, bool or categorical.  When\n",
      "                categorical type is supplied, DMatrix parameter\n",
      "                `enable_categorical` must be set to `True`.admission_type_id, discharge_disposition_id, admission_source_id\n",
      "\n",
      "  FitFailedWarning)\n"
     ]
    }
   ],
   "source": [
    "from sklearn.ensemble import AdaBoostClassifier, GradientBoostingClassifier\n",
    "from mlxtend.classifier import EnsembleVoteClassifier\n",
    "import xgboost as xgb\n",
    "from xgboost.sklearn import XGBClassifier\n",
    "ada_boost = AdaBoostClassifier()\n",
    "grad_boost = GradientBoostingClassifier()\n",
    "xgb_boost = XGBClassifier()\n",
    "boost_array = [ada_boost, grad_boost, xgb_boost]\n",
    "eclf = EnsembleVoteClassifier(clfs=[ada_boost, grad_boost, xgb_boost], voting='hard')\n",
    "labels = ['Ada Boost', 'Grad Boost', 'XG Boost', 'Ensemble']\n",
    "for clf, label in zip([ada_boost, grad_boost, xgb_boost, eclf], labels):\n",
    "    scores = cross_val_score(clf, x_train, y_train, cv=10, scoring='accuracy')\n",
    "    print(\"Mean: {0:.3f}, std: (+/-) {1:.3f} [{2}]\".format(scores.mean(), scores.std(), label))"
   ]
  },
  {
   "cell_type": "code",
   "execution_count": 73,
   "metadata": {},
   "outputs": [],
   "source": [
    "import tensorflow as tf\n",
    "from tensorflow import keras"
   ]
  },
  {
   "cell_type": "code",
   "execution_count": 74,
   "metadata": {},
   "outputs": [],
   "source": [
    "model = keras.Sequential([\n",
    "    keras.layers.Flatten(),\n",
    "    keras.layers.Dense(40, activation='relu'),\n",
    "    keras.layers.Dense(8, activation='relu'),\n",
    "    keras.layers.Dense(1, activation='sigmoid')\n",
    "])"
   ]
  },
  {
   "cell_type": "code",
   "execution_count": 75,
   "metadata": {},
   "outputs": [],
   "source": [
    "model.compile(loss='binary_crossentropy', optimizer='adam', metrics=['accuracy'])"
   ]
  },
  {
   "cell_type": "code",
   "execution_count": 76,
   "metadata": {},
   "outputs": [
    {
     "name": "stdout",
     "output_type": "stream",
     "text": [
      "Train on 70536 samples\n",
      "Epoch 1/10\n",
      "70536/70536 [==============================] - 8s 111us/sample - loss: 0.6701 - accuracy: 0.5989\n",
      "Epoch 2/10\n",
      "70536/70536 [==============================] - 7s 105us/sample - loss: 0.6554 - accuracy: 0.6130 - loss: 0.6554 - accuracy: 0.61\n",
      "Epoch 3/10\n",
      "70536/70536 [==============================] - 7s 103us/sample - loss: 0.6507 - accuracy: 0.6204\n",
      "Epoch 4/10\n",
      "70536/70536 [==============================] - 8s 107us/sample - loss: 0.6476 - accuracy: 0.6219\n",
      "Epoch 5/10\n",
      "70536/70536 [==============================] - 7s 105us/sample - loss: 0.6455 - accuracy: 0.6251\n",
      "Epoch 6/10\n",
      "70536/70536 [==============================] - 7s 104us/sample - loss: 0.6440 - accuracy: 0.6260\n",
      "Epoch 7/10\n",
      "70536/70536 [==============================] - ETA: 0s - loss: 0.6411 - accuracy: 0.6276 ETA: 1s - loss: 0.6 - ETA: 1s - loss: 0.6422 - accuracy:  - ETA: 1s - loss: 0.6420 - accu - ETA: 0s - loss: 0 - ETA: 0s - loss: 0.6412 - accura - 7s 105us/sample - loss: 0.6411 - accuracy: 0.6276\n",
      "Epoch 8/10\n",
      "70536/70536 [==============================] - 7s 104us/sample - loss: 0.6387 - accuracy: 0.6300 - loss: 0.6\n",
      "Epoch 9/10\n",
      "70536/70536 [==============================] - 8s 108us/sample - loss: 0.6370 - accuracy: 0.6304\n",
      "Epoch 10/10\n",
      "70536/70536 [==============================] - 7s 104us/sample - loss: 0.6355 - accuracy: 0.6313 - loss: 0.6357 - ac\n"
     ]
    }
   ],
   "source": [
    "history = model.fit(x_train.values, y_train.values, epochs=10, batch_size=10)"
   ]
  },
  {
   "cell_type": "code",
   "execution_count": 77,
   "metadata": {},
   "outputs": [
    {
     "name": "stdout",
     "output_type": "stream",
     "text": [
      "30230/1 - 1s - loss: 0.6617 - accuracy: 0.6315\n",
      "\n",
      "Test accuracy: 0.6314919\n"
     ]
    }
   ],
   "source": [
    "test_loss, test_acc = model.evaluate(x_test.values,  y_test.values, verbose = 2)\n",
    "\n",
    "print('\\nTest accuracy:', test_acc)"
   ]
  },
  {
   "cell_type": "code",
   "execution_count": 78,
   "metadata": {},
   "outputs": [
    {
     "name": "stdout",
     "output_type": "stream",
     "text": [
      "dict_keys(['loss', 'accuracy'])\n"
     ]
    }
   ],
   "source": [
    "print(history.history.keys())"
   ]
  },
  {
   "cell_type": "code",
   "execution_count": 79,
   "metadata": {},
   "outputs": [
    {
     "data": {
      "image/png": "[encoded data removed]",
      "text/plain": [
       "<Figure size 432x288 with 1 Axes>"
      ]
     },
     "metadata": {
      "needs_background": "light"
     },
     "output_type": "display_data"
    }
   ],
   "source": [
    "import matplotlib.pyplot as plt\n",
    "plt.plot(history.history['accuracy'])\n",
    "plt.title('model accuracy')\n",
    "plt.ylabel('accuracy')\n",
    "plt.xlabel('epoch')\n",
    "plt.legend(['train', 'test'], loc='upper left')\n",
    "plt.show()"
   ]
  },
  {
   "cell_type": "code",
   "execution_count": 80,
   "metadata": {},
   "outputs": [
    {
     "data": {
      "image/png": "[encoded data removed]",
      "text/plain": [
       "<Figure size 432x288 with 1 Axes>"
      ]
     },
     "metadata": {
      "needs_background": "light"
     },
     "output_type": "display_data"
    }
   ],
   "source": [
    "plt.plot(history.history['loss'])\n",
    "plt.title('model loss')\n",
    "plt.ylabel('loss')\n",
    "plt.xlabel('epoch')\n",
    "plt.legend(['train', 'test'], loc='upper left')\n",
    "plt.show()"
   ]
  },
  {
   "cell_type": "code",
   "execution_count": null,
   "metadata": {},
   "outputs": [],
   "source": []
  }
 ],
 "metadata": {
  "kernelspec": {
   "display_name": "Python 3",
   "language": "python",
   "name": "python3"
  },
  "language_info": {
   "codemirror_mode": {
    "name": "ipython",
    "version": 3
   },
   "file_extension": ".py",
   "mimetype": "text/x-python",
   "name": "python",
   "nbconvert_exporter": "python",
   "pygments_lexer": "ipython3",
   "version": "3.7.9"
  }
 },
 "nbformat": 4,
 "nbformat_minor": 4
}
